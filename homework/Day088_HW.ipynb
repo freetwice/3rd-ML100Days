{
 "cells": [
  {
   "cell_type": "markdown",
   "metadata": {},
   "source": [
    "## Work\n",
    "1. 請嘗試寫一個 callback 用來記錄各類別在訓練過程中，對驗證集的 True Positive 與 True Negative"
   ]
  },
  {
   "cell_type": "code",
   "execution_count": 1,
   "metadata": {},
   "outputs": [
    {
     "name": "stderr",
     "output_type": "stream",
     "text": [
      "Using TensorFlow backend.\n"
     ]
    }
   ],
   "source": [
    "import os\n",
    "import keras\n",
    "\n",
    "# Disable GPU\n",
    "#os.environ[\"CUDA_VISIBLE_DEVICES\"] = \"\""
   ]
  },
  {
   "cell_type": "code",
   "execution_count": 2,
   "metadata": {},
   "outputs": [],
   "source": [
    "train, test = keras.datasets.cifar10.load_data()"
   ]
  },
  {
   "cell_type": "code",
   "execution_count": 3,
   "metadata": {},
   "outputs": [],
   "source": [
    "## 資料前處理\n",
    "def preproc_x(x, flatten=True):\n",
    "    x = x / 255.\n",
    "    if flatten:\n",
    "        x = x.reshape((len(x), -1))\n",
    "    return x\n",
    "\n",
    "def preproc_y(y, num_classes=10):\n",
    "    if y.shape[-1] == 1:\n",
    "        y = keras.utils.to_categorical(y, num_classes)\n",
    "    return y    "
   ]
  },
  {
   "cell_type": "code",
   "execution_count": 4,
   "metadata": {},
   "outputs": [],
   "source": [
    "x_train, y_train = train\n",
    "x_test, y_test = test\n",
    "\n",
    "# Preproc the inputs\n",
    "x_train = preproc_x(x_train)\n",
    "x_test = preproc_x(x_test)\n",
    "\n",
    "# Preprc the outputs\n",
    "y_train = preproc_y(y_train)\n",
    "y_test = preproc_y(y_test)"
   ]
  },
  {
   "cell_type": "code",
   "execution_count": 5,
   "metadata": {},
   "outputs": [],
   "source": [
    "from keras.layers import BatchNormalization\n",
    "def build_mlp(input_shape, output_units=10, num_neurons=[256, 256, 256]):\n",
    "    \"\"\"Code Here\n",
    "    建立你的神經網路\n",
    "    \"\"\"\n",
    "    input_layer = keras.layers.Input(input_shape)\n",
    "    for i, n_units in enumerate(num_neurons):\n",
    "        if i ==0:\n",
    "            x = keras.layers.Dense(units=n_units, activation='relu', name='hidden_layer'+str(i+1))(input_layer)\n",
    "            x = BatchNormalization()(x)\n",
    "        else:\n",
    "            x = keras.layers.Dense(units=n_units, activation='relu', name='hidden_layer'+str(i+1))(x)\n",
    "            x = BatchNormalization()(x)\n",
    "    out = keras.layers.Dense(units=output_units, activation='softmax', name='output')(x)\n",
    "    model = keras.models.Model(inputs=[input_layer],outputs=[out])\n",
    "    return model"
   ]
  },
  {
   "cell_type": "code",
   "execution_count": 6,
   "metadata": {},
   "outputs": [],
   "source": [
    "## 超參數設定\n",
    "LEARNING_RATE = 1e-3\n",
    "EPOCHS = 25\n",
    "BATCH_SIZE = 1024\n",
    "MOMENTUM = 0.95"
   ]
  },
  {
   "cell_type": "code",
   "execution_count": 23,
   "metadata": {},
   "outputs": [],
   "source": [
    "# 載入 Callbacks\n",
    "from keras.callbacks import Callback\n",
    "from sklearn.metrics import f1_score\n",
    "\n",
    "# Record_fp_tp\n",
    "class Record_tp_tn(Callback):\n",
    "    \"\"\"Code Here\n",
    "    撰寫一個紀錄 ture positive 與 true negative 數量的 callbacks    \n",
    "    \"\"\"\n",
    "    def on_train_begin(self, epoch, logs={}):\n",
    "        logs = logs or {}\n",
    "        record_items = ['val_auc', 'val_f1sc', 'val_fp', 'val_fn', 'val_tp', 'val_tn']\n",
    "        for i in record_items:\n",
    "            if i not in self.params['metrics']:\n",
    "                self.params['metrics'].append(i)\n",
    "    \n",
    "    def on_epoch_end(self, epoch, logs={}, thres=0.5):\n",
    "        logs = logs or {}\n",
    "        y_true = self.validation_data[1].argmax(axis = 1)\n",
    "        y_pred = self.model.predict(self.validation_data[0])\n",
    "        y_pred = (y_pred[:,1]>= thres)*1\n",
    "        \n",
    "        logs['val_tp'] = sum((y_true==1)&(y_pred==1))\n",
    "        logs['val_tn'] = sum((y_true==0)&(y_pred==0))\n",
    "          \n",
    "        \n",
    "rec_tptn = Record_tp_tn()"
   ]
  },
  {
   "cell_type": "code",
   "execution_count": 24,
   "metadata": {
    "scrolled": true
   },
   "outputs": [
    {
     "name": "stdout",
     "output_type": "stream",
     "text": [
      "Model: \"model_8\"\n",
      "_________________________________________________________________\n",
      "Layer (type)                 Output Shape              Param #   \n",
      "=================================================================\n",
      "input_8 (InputLayer)         (None, 3072)              0         \n",
      "_________________________________________________________________\n",
      "hidden_layer1 (Dense)        (None, 256)               786688    \n",
      "_________________________________________________________________\n",
      "batch_normalization_22 (Batc (None, 256)               1024      \n",
      "_________________________________________________________________\n",
      "hidden_layer2 (Dense)        (None, 256)               65792     \n",
      "_________________________________________________________________\n",
      "batch_normalization_23 (Batc (None, 256)               1024      \n",
      "_________________________________________________________________\n",
      "hidden_layer3 (Dense)        (None, 256)               65792     \n",
      "_________________________________________________________________\n",
      "batch_normalization_24 (Batc (None, 256)               1024      \n",
      "_________________________________________________________________\n",
      "output (Dense)               (None, 10)                2570      \n",
      "=================================================================\n",
      "Total params: 923,914\n",
      "Trainable params: 922,378\n",
      "Non-trainable params: 1,536\n",
      "_________________________________________________________________\n",
      "Train on 50000 samples, validate on 10000 samples\n",
      "Epoch 1/25\n",
      "50000/50000 [==============================] - 6s 116us/step - loss: 2.2290 - accuracy: 0.2659 - val_loss: 2.1862 - val_accuracy: 0.1846\n",
      "Epoch 2/25\n",
      "50000/50000 [==============================] - 5s 103us/step - loss: 1.7573 - accuracy: 0.3862 - val_loss: 2.0226 - val_accuracy: 0.2605\n",
      "Epoch 3/25\n",
      "50000/50000 [==============================] - 5s 109us/step - loss: 1.6263 - accuracy: 0.4261 - val_loss: 1.8574 - val_accuracy: 0.3329\n",
      "Epoch 4/25\n",
      "50000/50000 [==============================] - 6s 117us/step - loss: 1.5492 - accuracy: 0.4564 - val_loss: 1.7213 - val_accuracy: 0.3959\n",
      "Epoch 5/25\n",
      "50000/50000 [==============================] - 6s 112us/step - loss: 1.4954 - accuracy: 0.4765 - val_loss: 1.6402 - val_accuracy: 0.4283\n",
      "Epoch 6/25\n",
      "50000/50000 [==============================] - 6s 121us/step - loss: 1.4524 - accuracy: 0.4912 - val_loss: 1.5687 - val_accuracy: 0.4500\n",
      "Epoch 7/25\n",
      "50000/50000 [==============================] - 6s 110us/step - loss: 1.4163 - accuracy: 0.5039 - val_loss: 1.5535 - val_accuracy: 0.4506\n",
      "Epoch 8/25\n",
      "50000/50000 [==============================] - 6s 116us/step - loss: 1.3837 - accuracy: 0.5167 - val_loss: 1.5186 - val_accuracy: 0.4615\n",
      "Epoch 9/25\n",
      "50000/50000 [==============================] - 5s 109us/step - loss: 1.3544 - accuracy: 0.5262 - val_loss: 1.5026 - val_accuracy: 0.4715\n",
      "Epoch 10/25\n",
      "50000/50000 [==============================] - 5s 107us/step - loss: 1.3276 - accuracy: 0.5357 - val_loss: 1.4983 - val_accuracy: 0.4712\n",
      "Epoch 11/25\n",
      "50000/50000 [==============================] - 5s 108us/step - loss: 1.3024 - accuracy: 0.5460 - val_loss: 1.4834 - val_accuracy: 0.4756\n",
      "Epoch 12/25\n",
      "50000/50000 [==============================] - 5s 108us/step - loss: 1.2792 - accuracy: 0.5542 - val_loss: 1.4852 - val_accuracy: 0.4785\n",
      "Epoch 13/25\n",
      "50000/50000 [==============================] - 6s 117us/step - loss: 1.2566 - accuracy: 0.5623 - val_loss: 1.4782 - val_accuracy: 0.4808\n",
      "Epoch 14/25\n",
      "50000/50000 [==============================] - 6s 112us/step - loss: 1.2357 - accuracy: 0.5713 - val_loss: 1.4707 - val_accuracy: 0.4804\n",
      "Epoch 15/25\n",
      "50000/50000 [==============================] - 6s 114us/step - loss: 1.2160 - accuracy: 0.5777 - val_loss: 1.4545 - val_accuracy: 0.4881\n",
      "Epoch 16/25\n",
      "50000/50000 [==============================] - 5s 107us/step - loss: 1.1958 - accuracy: 0.5839 - val_loss: 1.4437 - val_accuracy: 0.4935\n",
      "Epoch 17/25\n",
      "50000/50000 [==============================] - 5s 107us/step - loss: 1.1753 - accuracy: 0.5937 - val_loss: 1.4656 - val_accuracy: 0.4860\n",
      "Epoch 18/25\n",
      "50000/50000 [==============================] - 5s 109us/step - loss: 1.1575 - accuracy: 0.5989 - val_loss: 1.4559 - val_accuracy: 0.4891\n",
      "Epoch 19/25\n",
      "50000/50000 [==============================] - 6s 114us/step - loss: 1.1396 - accuracy: 0.6057 - val_loss: 1.4510 - val_accuracy: 0.4945\n",
      "Epoch 20/25\n",
      "50000/50000 [==============================] - 6s 112us/step - loss: 1.1209 - accuracy: 0.6119 - val_loss: 1.4576 - val_accuracy: 0.4907\n",
      "Epoch 21/25\n",
      "50000/50000 [==============================] - 5s 107us/step - loss: 1.1047 - accuracy: 0.6207 - val_loss: 1.4523 - val_accuracy: 0.4965\n",
      "Epoch 22/25\n",
      "50000/50000 [==============================] - 6s 112us/step - loss: 1.0874 - accuracy: 0.6250 - val_loss: 1.4481 - val_accuracy: 0.4952\n",
      "Epoch 23/25\n",
      "50000/50000 [==============================] - 6s 116us/step - loss: 1.0697 - accuracy: 0.6320 - val_loss: 1.4443 - val_accuracy: 0.5021\n",
      "Epoch 24/25\n",
      "50000/50000 [==============================] - 6s 110us/step - loss: 1.0530 - accuracy: 0.6404 - val_loss: 1.4537 - val_accuracy: 0.4950\n",
      "Epoch 25/25\n",
      "50000/50000 [==============================] - 6s 114us/step - loss: 1.0371 - accuracy: 0.6462 - val_loss: 1.4471 - val_accuracy: 0.4987\n"
     ]
    }
   ],
   "source": [
    "model = build_mlp(input_shape=x_train.shape[1:])\n",
    "model.summary()\n",
    "optimizer = keras.optimizers.SGD(lr=LEARNING_RATE, nesterov=True, momentum=MOMENTUM)\n",
    "model.compile(loss=\"categorical_crossentropy\", metrics=[\"accuracy\"], optimizer=optimizer)\n",
    "\n",
    "\"\"\"Code Here\n",
    "將 callbacks 放入模型訓練流程中\n",
    "\"\"\"\n",
    "model.fit(x_train, y_train,\n",
    "         epochs = EPOCHS,\n",
    "         batch_size = BATCH_SIZE,\n",
    "         validation_data = (x_test, y_test),\n",
    "         shuffle=True,\n",
    "         callbacks=[rec_tptn])\n",
    "\n",
    "# Collect results\n",
    "train_loss = model.history.history[\"loss\"]\n",
    "valid_loss = model.history.history[\"val_loss\"]\n",
    "train_acc = model.history.history[\"accuracy\"]\n",
    "valid_acc = model.history.history[\"val_accuracy\"]\n",
    "\n",
    "\"\"\"Code Here\n",
    "將 tp/tn 從訓練完的模型中取出\n",
    "\"\"\"\n",
    "valid_tp = model.history.history['val_tp']\n",
    "valid_tn = model.history.history['val_tn']"
   ]
  },
  {
   "cell_type": "code",
   "execution_count": 25,
   "metadata": {},
   "outputs": [
    {
     "data": {
      "image/png": "[encoded data removed]",
      "text/plain": [
       "<Figure size 432x288 with 1 Axes>"
      ]
     },
     "metadata": {
      "needs_background": "light"
     },
     "output_type": "display_data"
    },
    {
     "data": {
      "image/png": "[encoded data removed]",
      "text/plain": [
       "<Figure size 432x288 with 1 Axes>"
      ]
     },
     "metadata": {
      "needs_background": "light"
     },
     "output_type": "display_data"
    },
    {
     "data": {
      "image/png": "[encoded data removed]",
      "text/plain": [
       "<Figure size 432x288 with 1 Axes>"
      ]
     },
     "metadata": {
      "needs_background": "light"
     },
     "output_type": "display_data"
    }
   ],
   "source": [
    "import matplotlib.pyplot as plt\n",
    "%matplotlib inline\n",
    "\n",
    "plt.plot(range(len(train_loss)), train_loss, label=\"train loss\")\n",
    "plt.plot(range(len(valid_loss)), valid_loss, label=\"valid loss\")\n",
    "plt.legend()\n",
    "plt.title(\"Loss\")\n",
    "plt.show()\n",
    "\n",
    "plt.plot(range(len(train_acc)), train_acc, label=\"train accuracy\")\n",
    "plt.plot(range(len(valid_acc)), valid_acc, label=\"valid accuracy\")\n",
    "plt.legend()\n",
    "plt.title(\"Accuracy\")\n",
    "plt.show()\n",
    "\n",
    "plt.plot(range(len(valid_tp)), valid_tp, label=\"valid tp\", color=\"navy\")\n",
    "plt.plot(range(len(valid_tn)), valid_tn, label=\"valid tn\", color=\"red\")\n",
    "plt.legend()\n",
    "plt.title(\"True positives and True Negatives\")\n",
    "plt.show()\n"
   ]
  }
 ],
 "metadata": {
  "kernelspec": {
   "display_name": "Python 3",
   "language": "python",
   "name": "python3"
  },
  "language_info": {
   "codemirror_mode": {
    "name": "ipython",
    "version": 3
   },
   "file_extension": ".py",
   "mimetype": "text/x-python",
   "name": "python",
   "nbconvert_exporter": "python",
   "pygments_lexer": "ipython3",
   "version": "3.5.6"
  }
 },
 "nbformat": 4,
 "nbformat_minor": 2
}
