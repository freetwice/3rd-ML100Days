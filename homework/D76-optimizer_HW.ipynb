{
 "cells": [
  {
   "cell_type": "markdown",
   "metadata": {},
   "source": [
    "# 作業重點:\n",
    "\n",
    "(1)以, Adam, 為例, 調整 batch_size, epoch , 觀察accurancy, loss 的變化\n",
    "\n",
    "(2)以同一模型, 分別驗證 SGD, Adam, Rmsprop 的 accurancy"
   ]
  },
  {
   "cell_type": "markdown",
   "metadata": {},
   "source": [
    "# 作業目標:\n",
    "    \n",
    "    取得各種優化器的運算結果"
   ]
  },
  {
   "cell_type": "code",
   "execution_count": 1,
   "metadata": {},
   "outputs": [
    {
     "name": "stderr",
     "output_type": "stream",
     "text": [
      "Using TensorFlow backend.\n"
     ]
    }
   ],
   "source": [
    "from __future__ import print_function\n",
    "import keras\n",
    "from keras.datasets import cifar10\n",
    "from keras.preprocessing.image import ImageDataGenerator\n",
    "from keras.models import Sequential\n",
    "from keras.layers import Dense, Dropout, Activation, Flatten\n",
    "from keras.layers import Conv2D, MaxPooling2D\n",
    "import os\n",
    "from keras import optimizers"
   ]
  },
  {
   "cell_type": "code",
   "execution_count": 2,
   "metadata": {},
   "outputs": [],
   "source": [
    "#Blas GEMM launch failed , 避免動態分配GPU / CPU, 出現問題\n",
    "# import tensorflow as tf\n",
    "# gpu_options = tf.GPUOptions(per_process_gpu_memory_fraction=0.333)\n",
    "# sess = tf.Session(config=tf.ConfigProto(gpu_options=gpu_options))"
   ]
  },
  {
   "cell_type": "code",
   "execution_count": 3,
   "metadata": {},
   "outputs": [],
   "source": [
    "\n",
    "'''\n",
    "   宣告並設定\n",
    "   batch_size：對總的樣本數進行分組，每組包含的樣本數量\n",
    "   epochs ：訓練次數\n",
    "   \n",
    "''' \n",
    "\n",
    "batch_size = 1500\n",
    "num_classes = 10\n",
    "epochs = 30\n",
    "data_augmentation = True\n",
    "num_predictions = 20\n",
    "save_dir = os.path.join(os.getcwd(), 'saved_models')\n",
    "model_name = 'keras_cifar10_trained_model.h5'"
   ]
  },
  {
   "cell_type": "code",
   "execution_count": 4,
   "metadata": {},
   "outputs": [
    {
     "name": "stdout",
     "output_type": "stream",
     "text": [
      "x_train shape: (50000, 32, 32, 3)\n",
      "50000 train samples\n",
      "10000 test samples\n"
     ]
    }
   ],
   "source": [
    "# The data, split between train and test sets:\n",
    "(x_train, y_train), (x_test, y_test) = cifar10.load_data()\n",
    "print('x_train shape:', x_train.shape)\n",
    "print(x_train.shape[0], 'train samples')\n",
    "print(x_test.shape[0], 'test samples')\n",
    "\n",
    "# Convert class vectors to binary class matrices.\n",
    "y_train = keras.utils.to_categorical(y_train, num_classes)\n",
    "y_test = keras.utils.to_categorical(y_test, num_classes)"
   ]
  },
  {
   "cell_type": "code",
   "execution_count": 5,
   "metadata": {},
   "outputs": [],
   "source": [
    "#    第一步：選擇模型, 順序模型是多個網絡層的線性堆疊\n",
    " \n",
    "model = Sequential()\n",
    "\n",
    "#   第二步：構建網絡層\n",
    "model.add(Conv2D(32, (3, 3), padding='same',\n",
    "                 input_shape=x_train.shape[1:]))\n",
    "model.add(Activation('relu'))\n",
    "model.add(Conv2D(32, (3, 3)))\n",
    "model.add(Activation('relu'))\n",
    "model.add(MaxPooling2D(pool_size=(2, 2)))\n",
    "model.add(Dropout(0.25))\n",
    "\n",
    "model.add(Conv2D(64, (3, 3), padding='same'))\n",
    "model.add(Activation('relu'))\n",
    "model.add(Conv2D(64, (3, 3)))\n",
    "model.add(Activation('relu'))\n",
    "model.add(MaxPooling2D(pool_size=(2, 2)))\n",
    "model.add(Dropout(0.25))\n",
    "\n",
    "model.add(Flatten())\n",
    "model.add(Dense(512))\n",
    "model.add(Activation('relu'))\n",
    "model.add(Dropout(0.5))\n",
    "\n",
    "model.add(Dense( 10)) # 輸出結果是10個類別，所以維度是10   \n",
    "model.add(Activation('softmax')) # 最後一層用softmax作為激活函數"
   ]
  },
  {
   "cell_type": "code",
   "execution_count": 6,
   "metadata": {},
   "outputs": [
    {
     "name": "stdout",
     "output_type": "stream",
     "text": [
      "Total Parameters：1250858\n"
     ]
    }
   ],
   "source": [
    "# 模型建立完成後，統計參數總量\n",
    "print(\"Total Parameters：%d\" % model.count_params())"
   ]
  },
  {
   "cell_type": "code",
   "execution_count": 7,
   "metadata": {},
   "outputs": [
    {
     "name": "stdout",
     "output_type": "stream",
     "text": [
      "Model: \"sequential_1\"\n",
      "_________________________________________________________________\n",
      "Layer (type)                 Output Shape              Param #   \n",
      "=================================================================\n",
      "conv2d_1 (Conv2D)            (None, 32, 32, 32)        896       \n",
      "_________________________________________________________________\n",
      "activation_1 (Activation)    (None, 32, 32, 32)        0         \n",
      "_________________________________________________________________\n",
      "conv2d_2 (Conv2D)            (None, 30, 30, 32)        9248      \n",
      "_________________________________________________________________\n",
      "activation_2 (Activation)    (None, 30, 30, 32)        0         \n",
      "_________________________________________________________________\n",
      "max_pooling2d_1 (MaxPooling2 (None, 15, 15, 32)        0         \n",
      "_________________________________________________________________\n",
      "dropout_1 (Dropout)          (None, 15, 15, 32)        0         \n",
      "_________________________________________________________________\n",
      "conv2d_3 (Conv2D)            (None, 15, 15, 64)        18496     \n",
      "_________________________________________________________________\n",
      "activation_3 (Activation)    (None, 15, 15, 64)        0         \n",
      "_________________________________________________________________\n",
      "conv2d_4 (Conv2D)            (None, 13, 13, 64)        36928     \n",
      "_________________________________________________________________\n",
      "activation_4 (Activation)    (None, 13, 13, 64)        0         \n",
      "_________________________________________________________________\n",
      "max_pooling2d_2 (MaxPooling2 (None, 6, 6, 64)          0         \n",
      "_________________________________________________________________\n",
      "dropout_2 (Dropout)          (None, 6, 6, 64)          0         \n",
      "_________________________________________________________________\n",
      "flatten_1 (Flatten)          (None, 2304)              0         \n",
      "_________________________________________________________________\n",
      "dense_1 (Dense)              (None, 512)               1180160   \n",
      "_________________________________________________________________\n",
      "activation_5 (Activation)    (None, 512)               0         \n",
      "_________________________________________________________________\n",
      "dropout_3 (Dropout)          (None, 512)               0         \n",
      "_________________________________________________________________\n",
      "dense_2 (Dense)              (None, 10)                5130      \n",
      "_________________________________________________________________\n",
      "activation_6 (Activation)    (None, 10)                0         \n",
      "=================================================================\n",
      "Total params: 1,250,858\n",
      "Trainable params: 1,250,858\n",
      "Non-trainable params: 0\n",
      "_________________________________________________________________\n"
     ]
    }
   ],
   "source": [
    "# 輸出模型摘要資訊\n",
    "model.summary()"
   ]
  },
  {
   "cell_type": "code",
   "execution_count": 8,
   "metadata": {},
   "outputs": [],
   "source": [
    "#第三步編譯\n",
    "'''\n",
    " SGD(隨機梯度下降) - Arguments\n",
    "lr: float >= 0. Learning rate.\n",
    "momentum: float >= 0. Parameter that accelerates SGD in the relevant direction and dampens oscillations.\n",
    "decay: float >= 0. Learning rate decay over each update.\n",
    "nesterov: boolean. Whether to apply Nesterov momentum.\n",
    "'''\n",
    "    \n",
    "'''\n",
    "RMSprop- Arguments\n",
    "lr: float >= 0. Learning rate.\n",
    "rho: float >= 0.\n",
    "epsilon: float >= 0. Fuzz factor. If None, defaults to K.epsilon().\n",
    "decay: float >= 0. Learning rate decay over each update.\n",
    "'''\n",
    "\n",
    "'''\n",
    "Example:\n",
    "opt = optimizers.SGD(lr=0.01, decay=1e-6, momentum=0.9, nesterov=True)\n",
    "\n",
    "'''\n",
    "sgd = optimizers.SGD()\n",
    "rmsprop = optimizers.RMSprop()\n",
    "adam = optimizers.Adam()"
   ]
  },
  {
   "cell_type": "markdown",
   "metadata": {},
   "source": [
    "## 1.Adam:含調整 batch_size, epoch"
   ]
  },
  {
   "cell_type": "code",
   "execution_count": 9,
   "metadata": {},
   "outputs": [],
   "source": [
    "model.compile(optimizer = adam, loss = 'categorical_crossentropy', metrics = ['accuracy'])"
   ]
  },
  {
   "cell_type": "code",
   "execution_count": 10,
   "metadata": {},
   "outputs": [],
   "source": [
    "# 資料正規化\n",
    "x_train = x_train.astype('float32')\n",
    "x_test = x_test.astype('float32')\n",
    "x_train /= 255\n",
    "x_test /= 255"
   ]
  },
  {
   "cell_type": "code",
   "execution_count": 11,
   "metadata": {},
   "outputs": [
    {
     "name": "stdout",
     "output_type": "stream",
     "text": [
      "Using real-time data augmentation.\n",
      "\n",
      "Train on 50000 samples, validate on 10000 samples\n",
      "Epoch 1/30\n",
      "50000/50000 [==============================] - 221s 4ms/step - loss: 2.0285 - accuracy: 0.2554 - val_loss: 1.7493 - val_accuracy: 0.3856\n",
      "Epoch 2/30\n",
      "50000/50000 [==============================] - 209s 4ms/step - loss: 1.6781 - accuracy: 0.3895 - val_loss: 1.5490 - val_accuracy: 0.4508\n",
      "Epoch 3/30\n",
      "50000/50000 [==============================] - 158s 3ms/step - loss: 1.4995 - accuracy: 0.4560 - val_loss: 1.3675 - val_accuracy: 0.5107\n",
      "Epoch 4/30\n",
      "50000/50000 [==============================] - 163s 3ms/step - loss: 1.3967 - accuracy: 0.4983 - val_loss: 1.2917 - val_accuracy: 0.5421\n",
      "Epoch 5/30\n",
      "50000/50000 [==============================] - 133s 3ms/step - loss: 1.3162 - accuracy: 0.5285 - val_loss: 1.2498 - val_accuracy: 0.5496\n",
      "Epoch 6/30\n",
      "50000/50000 [==============================] - 134s 3ms/step - loss: 1.2626 - accuracy: 0.5518 - val_loss: 1.1676 - val_accuracy: 0.5908\n",
      "Epoch 7/30\n",
      "50000/50000 [==============================] - 134s 3ms/step - loss: 1.1985 - accuracy: 0.5734 - val_loss: 1.1326 - val_accuracy: 0.5988\n",
      "Epoch 8/30\n",
      "50000/50000 [==============================] - 134s 3ms/step - loss: 1.1487 - accuracy: 0.5922 - val_loss: 1.0856 - val_accuracy: 0.6144\n",
      "Epoch 9/30\n",
      "50000/50000 [==============================] - 133s 3ms/step - loss: 1.1145 - accuracy: 0.6033 - val_loss: 1.0344 - val_accuracy: 0.6336\n",
      "Epoch 10/30\n",
      "50000/50000 [==============================] - 127s 3ms/step - loss: 1.0799 - accuracy: 0.6204 - val_loss: 1.0150 - val_accuracy: 0.6436\n",
      "Epoch 11/30\n",
      "50000/50000 [==============================] - 127s 3ms/step - loss: 1.0376 - accuracy: 0.6342 - val_loss: 1.0008 - val_accuracy: 0.6532\n",
      "Epoch 12/30\n",
      "50000/50000 [==============================] - 127s 3ms/step - loss: 1.0158 - accuracy: 0.6426 - val_loss: 0.9643 - val_accuracy: 0.6641\n",
      "Epoch 13/30\n",
      "50000/50000 [==============================] - 127s 3ms/step - loss: 0.9699 - accuracy: 0.6587 - val_loss: 0.9279 - val_accuracy: 0.6799\n",
      "Epoch 14/30\n",
      "50000/50000 [==============================] - 127s 3ms/step - loss: 0.9371 - accuracy: 0.6722 - val_loss: 0.9352 - val_accuracy: 0.6760\n",
      "Epoch 15/30\n",
      "50000/50000 [==============================] - 131s 3ms/step - loss: 0.9164 - accuracy: 0.6778 - val_loss: 0.8777 - val_accuracy: 0.6969\n",
      "Epoch 16/30\n",
      "50000/50000 [==============================] - 128s 3ms/step - loss: 0.8892 - accuracy: 0.6882 - val_loss: 0.8805 - val_accuracy: 0.6940\n",
      "Epoch 17/30\n",
      "50000/50000 [==============================] - 128s 3ms/step - loss: 0.8720 - accuracy: 0.6936 - val_loss: 0.8620 - val_accuracy: 0.7015\n",
      "Epoch 18/30\n",
      "50000/50000 [==============================] - 129s 3ms/step - loss: 0.8457 - accuracy: 0.7024 - val_loss: 0.8199 - val_accuracy: 0.7187\n",
      "Epoch 19/30\n",
      "50000/50000 [==============================] - 127s 3ms/step - loss: 0.8230 - accuracy: 0.7117 - val_loss: 0.8186 - val_accuracy: 0.7194\n",
      "Epoch 20/30\n",
      "50000/50000 [==============================] - 127s 3ms/step - loss: 0.8007 - accuracy: 0.7174 - val_loss: 0.7914 - val_accuracy: 0.7267\n",
      "Epoch 21/30\n",
      "50000/50000 [==============================] - 127s 3ms/step - loss: 0.7796 - accuracy: 0.7251 - val_loss: 0.7923 - val_accuracy: 0.7333\n",
      "Epoch 22/30\n",
      "50000/50000 [==============================] - 127s 3ms/step - loss: 0.7597 - accuracy: 0.7336 - val_loss: 0.7677 - val_accuracy: 0.7365\n",
      "Epoch 23/30\n",
      "50000/50000 [==============================] - 127s 3ms/step - loss: 0.7363 - accuracy: 0.7430 - val_loss: 0.7791 - val_accuracy: 0.7270\n",
      "Epoch 24/30\n",
      "50000/50000 [==============================] - 126s 3ms/step - loss: 0.7256 - accuracy: 0.7462 - val_loss: 0.7443 - val_accuracy: 0.7463\n",
      "Epoch 25/30\n",
      "50000/50000 [==============================] - 126s 3ms/step - loss: 0.7095 - accuracy: 0.7498 - val_loss: 0.7483 - val_accuracy: 0.7429\n",
      "Epoch 26/30\n",
      "50000/50000 [==============================] - 127s 3ms/step - loss: 0.6864 - accuracy: 0.7599 - val_loss: 0.7366 - val_accuracy: 0.7468\n",
      "Epoch 27/30\n",
      "50000/50000 [==============================] - 127s 3ms/step - loss: 0.6702 - accuracy: 0.7646 - val_loss: 0.7277 - val_accuracy: 0.7486\n",
      "Epoch 28/30\n",
      "50000/50000 [==============================] - 126s 3ms/step - loss: 0.6580 - accuracy: 0.7683 - val_loss: 0.7251 - val_accuracy: 0.7510\n",
      "Epoch 29/30\n",
      "50000/50000 [==============================] - 126s 3ms/step - loss: 0.6439 - accuracy: 0.7735 - val_loss: 0.7062 - val_accuracy: 0.7580\n",
      "Epoch 30/30\n",
      "50000/50000 [==============================] - 127s 3ms/step - loss: 0.6343 - accuracy: 0.7780 - val_loss: 0.7002 - val_accuracy: 0.7589\n"
     ]
    },
    {
     "data": {
      "text/plain": [
       "'\\n   第四步：訓練\\n   .fit的一些參數\\n   batch_size：對總的樣本數進行分組，每組包含的樣本數量\\n   epochs ：訓練次數\\n   shuffle：是否把數據隨機打亂之後再進行訓練\\n   validation_split：拿出百分之多少用來做交叉驗證\\n   verbose：屏顯模式 - 0：不輸出, 1：輸出進度, 2：輸出每次的訓練結果\\n'"
      ]
     },
     "execution_count": 11,
     "metadata": {},
     "output_type": "execute_result"
    }
   ],
   "source": [
    "# 是否要做資料處理\n",
    "if not data_augmentation:\n",
    "    print('Not using data augmentation.')\n",
    "    history=model.fit(x_train, y_train,\n",
    "              batch_size=batch_size,\n",
    "              epochs=epochs,\n",
    "              validation_data=(x_test, y_test),\n",
    "              shuffle=True)\n",
    "else:\n",
    "    print('Using real-time data augmentation.')\n",
    "    print('')\n",
    "        \n",
    "    # This will do preprocessing and realtime data augmentation:\n",
    "    datagen = ImageDataGenerator(\n",
    "        featurewise_center=False,  # set input mean to 0 over the dataset\n",
    "        samplewise_center=False,  # set each sample mean to 0\n",
    "        featurewise_std_normalization=False,  # divide inputs by std of the dataset\n",
    "        samplewise_std_normalization=False,  # divide each input by its std\n",
    "        zca_whitening=False,  # apply ZCA whitening\n",
    "        zca_epsilon=1e-06,  # epsilon for ZCA whitening\n",
    "        rotation_range=0,  # randomly rotate images in the range (degrees, 0 to 180)\n",
    "        # randomly shift images horizontally (fraction of total width)\n",
    "        width_shift_range=0.1,\n",
    "        # randomly shift images vertically (fraction of total height)\n",
    "        height_shift_range=0.1,\n",
    "        shear_range=0.,  # set range for random shear\n",
    "        zoom_range=0.,  # set range for random zoom\n",
    "        channel_shift_range=0.,  # set range for random channel shifts\n",
    "        # set mode for filling points outside the input boundaries\n",
    "        fill_mode='nearest',\n",
    "        cval=0.,  # value used for fill_mode = \"constant\"\n",
    "        horizontal_flip=True,  # randomly flip images\n",
    "        vertical_flip=False,  # randomly flip images\n",
    "        # set rescaling factor (applied before any other transformation)\n",
    "        rescale=None,\n",
    "        # set function that will be applied on each input\n",
    "        preprocessing_function=None,\n",
    "        # image data format, either \"channels_first\" or \"channels_last\"\n",
    "        data_format=None,\n",
    "        # fraction of images reserved for validation (strictly between 0 and 1)\n",
    "        validation_split=0.0)\n",
    "\n",
    "    # Compute quantities required for feature-wise normalization\n",
    "    # (std, mean, and principal components if ZCA whitening is applied).\n",
    "    datagen.fit(x_train)\n",
    "    history=model.fit(x_train, y_train,\n",
    "              batch_size=batch_size,\n",
    "              epochs=epochs,\n",
    "              validation_data=(x_test, y_test),\n",
    "              shuffle=True)   \n",
    "\n",
    "'''\n",
    "   第四步：訓練\n",
    "   .fit的一些參數\n",
    "   batch_size：對總的樣本數進行分組，每組包含的樣本數量\n",
    "   epochs ：訓練次數\n",
    "   shuffle：是否把數據隨機打亂之後再進行訓練\n",
    "   validation_split：拿出百分之多少用來做交叉驗證\n",
    "   verbose：屏顯模式 - 0：不輸出, 1：輸出進度, 2：輸出每次的訓練結果\n",
    "''' \n",
    "    "
   ]
  },
  {
   "cell_type": "code",
   "execution_count": 11,
   "metadata": {},
   "outputs": [
    {
     "name": "stdout",
     "output_type": "stream",
     "text": [
      "Saved trained model at C:\\Users\\Jeffrey.yc Chen\\Downloads\\ML100\\Temp\\Day76\\saved_models\\keras_cifar10_trained_model.h5 \n",
      "10000/10000 [==============================] - 14s 1ms/step\n",
      "Test loss: 0.6803855864524841\n",
      "Test accuracy: 0.7766\n"
     ]
    }
   ],
   "source": [
    "# Save model and weights\n",
    "if not os.path.isdir(save_dir):\n",
    "    os.makedirs(save_dir)\n",
    "model_path = os.path.join(save_dir, model_name)\n",
    "model.save(model_path)\n",
    "print('Saved trained model at %s ' % model_path)\n",
    "\n",
    "# Score trained model.\n",
    "scores = model.evaluate(x_test, y_test, verbose=1)\n",
    "print('Test loss:', scores[0])\n",
    "print('Test accuracy:', scores[1])"
   ]
  },
  {
   "cell_type": "code",
   "execution_count": 12,
   "metadata": {},
   "outputs": [
    {
     "name": "stdout",
     "output_type": "stream",
     "text": [
      " test set \n",
      "\n",
      " The test loss is %f  [0.680385582447052, 0.7765999960899354]\n"
     ]
    }
   ],
   "source": [
    "#    第六步：輸出\n",
    "import numpy \n",
    "\n",
    "print ( \" test set \" )\n",
    "scores = model.evaluate(x_test,y_test,batch_size=200,verbose= 0)\n",
    "print ( \"\" )\n",
    "#print ( \" The test loss is %f \" % scores)\n",
    "print ( \" The test loss is %f \", scores)\n",
    "\n",
    "\n",
    "result = model.predict(x_test,batch_size=200,verbose= 0)\n",
    "\n",
    "result_max = numpy.argmax(result, axis = 1 )\n",
    "test_max = numpy.argmax(y_test, axis = 1 )\n",
    "\n",
    "result_bool = numpy.equal(result_max, test_max)\n",
    "true_num = numpy.sum(result_bool)\n"
   ]
  },
  {
   "cell_type": "code",
   "execution_count": 13,
   "metadata": {},
   "outputs": [
    {
     "data": {
      "image/png": "[encoded data removed]",
      "text/plain": [
       "<Figure size 432x288 with 1 Axes>"
      ]
     },
     "metadata": {
      "needs_background": "light"
     },
     "output_type": "display_data"
    },
    {
     "data": {
      "image/png": "[encoded data removed]",
      "text/plain": [
       "<Figure size 432x288 with 1 Axes>"
      ]
     },
     "metadata": {
      "needs_background": "light"
     },
     "output_type": "display_data"
    }
   ],
   "source": [
    "import matplotlib.pyplot as plt\n",
    "%matplotlib inline\n",
    "\n",
    "# Plot training & validation accuracy values\n",
    "plt.plot(history.history['acc'])\n",
    "plt.plot(history.history['val_acc'])\n",
    "plt.title('Model accuracy')\n",
    "plt.ylabel('Accuracy')\n",
    "plt.xlabel('Epoch')\n",
    "plt.legend(['Train', 'Valiidation'], loc='upper left')\n",
    "plt.show()\n",
    "\n",
    "# Plot training & validation loss values\n",
    "plt.plot(history.history['loss'])\n",
    "plt.plot(history.history['val_loss'])\n",
    "plt.title('Model loss')\n",
    "plt.ylabel('Loss')\n",
    "plt.xlabel('Epoch')\n",
    "plt.legend(['Train', 'Valiidation'], loc='upper left')\n",
    "plt.show()"
   ]
  },
  {
   "cell_type": "markdown",
   "metadata": {},
   "source": [
    "## 2.SGD"
   ]
  },
  {
   "cell_type": "code",
   "execution_count": 9,
   "metadata": {},
   "outputs": [],
   "source": [
    "model.compile(optimizer = sgd, loss = 'categorical_crossentropy', metrics = ['accuracy'])"
   ]
  },
  {
   "cell_type": "code",
   "execution_count": 10,
   "metadata": {},
   "outputs": [],
   "source": [
    "# 資料正規化\n",
    "x_train = x_train.astype('float32')\n",
    "x_test = x_test.astype('float32')\n",
    "x_train /= 255\n",
    "x_test /= 255"
   ]
  },
  {
   "cell_type": "code",
   "execution_count": 11,
   "metadata": {},
   "outputs": [
    {
     "name": "stdout",
     "output_type": "stream",
     "text": [
      "Using real-time data augmentation.\n",
      "\n",
      "Train on 50000 samples, validate on 10000 samples\n",
      "Epoch 1/30\n",
      "50000/50000 [==============================] - 216s 4ms/step - loss: 2.3058 - accuracy: 0.0996 - val_loss: 2.3004 - val_accuracy: 0.1149\n",
      "Epoch 2/30\n",
      "50000/50000 [==============================] - 218s 4ms/step - loss: 2.3016 - accuracy: 0.1068 - val_loss: 2.2992 - val_accuracy: 0.1250\n",
      "Epoch 3/30\n",
      "50000/50000 [==============================] - 217s 4ms/step - loss: 2.2998 - accuracy: 0.1078 - val_loss: 2.2980 - val_accuracy: 0.1151\n",
      "Epoch 4/30\n",
      "50000/50000 [==============================] - 214s 4ms/step - loss: 2.2983 - accuracy: 0.1113 - val_loss: 2.2965 - val_accuracy: 0.1187\n",
      "Epoch 5/30\n",
      "50000/50000 [==============================] - 216s 4ms/step - loss: 2.2967 - accuracy: 0.1169 - val_loss: 2.2946 - val_accuracy: 0.1243\n",
      "Epoch 6/30\n",
      "50000/50000 [==============================] - 217s 4ms/step - loss: 2.2945 - accuracy: 0.1194 - val_loss: 2.2925 - val_accuracy: 0.1314\n",
      "Epoch 7/30\n",
      "50000/50000 [==============================] - 160s 3ms/step - loss: 2.2917 - accuracy: 0.1233 - val_loss: 2.2896 - val_accuracy: 0.1339\n",
      "Epoch 8/30\n",
      "50000/50000 [==============================] - 125s 3ms/step - loss: 2.2894 - accuracy: 0.1252 - val_loss: 2.2862 - val_accuracy: 0.1412\n",
      "Epoch 9/30\n",
      "50000/50000 [==============================] - 127s 3ms/step - loss: 2.2852 - accuracy: 0.1307 - val_loss: 2.2813 - val_accuracy: 0.1470\n",
      "Epoch 10/30\n",
      "50000/50000 [==============================] - 128s 3ms/step - loss: 2.2802 - accuracy: 0.1346 - val_loss: 2.2747 - val_accuracy: 0.1589\n",
      "Epoch 11/30\n",
      "50000/50000 [==============================] - 128s 3ms/step - loss: 2.2735 - accuracy: 0.1391 - val_loss: 2.2659 - val_accuracy: 0.1655\n",
      "Epoch 12/30\n",
      "50000/50000 [==============================] - 128s 3ms/step - loss: 2.2641 - accuracy: 0.1450 - val_loss: 2.2541 - val_accuracy: 0.1712\n",
      "Epoch 13/30\n",
      "50000/50000 [==============================] - 126s 3ms/step - loss: 2.2532 - accuracy: 0.1532 - val_loss: 2.2385 - val_accuracy: 0.1815\n",
      "Epoch 14/30\n",
      "50000/50000 [==============================] - 129s 3ms/step - loss: 2.2364 - accuracy: 0.1647 - val_loss: 2.2169 - val_accuracy: 0.2009\n",
      "Epoch 15/30\n",
      "50000/50000 [==============================] - 127s 3ms/step - loss: 2.2160 - accuracy: 0.1770 - val_loss: 2.1880 - val_accuracy: 0.2323\n",
      "Epoch 16/30\n",
      "50000/50000 [==============================] - 127s 3ms/step - loss: 2.1872 - accuracy: 0.1912 - val_loss: 2.1539 - val_accuracy: 0.2685\n",
      "Epoch 17/30\n",
      "50000/50000 [==============================] - 128s 3ms/step - loss: 2.1551 - accuracy: 0.2050 - val_loss: 2.1090 - val_accuracy: 0.2758\n",
      "Epoch 18/30\n",
      "50000/50000 [==============================] - 127s 3ms/step - loss: 2.1217 - accuracy: 0.2144 - val_loss: 2.0698 - val_accuracy: 0.2798\n",
      "Epoch 19/30\n",
      "50000/50000 [==============================] - 128s 3ms/step - loss: 2.0958 - accuracy: 0.2223 - val_loss: 2.0455 - val_accuracy: 0.2769\n",
      "Epoch 20/30\n",
      "50000/50000 [==============================] - 127s 3ms/step - loss: 2.0833 - accuracy: 0.2254 - val_loss: 2.0252 - val_accuracy: 0.2789\n",
      "Epoch 21/30\n",
      "50000/50000 [==============================] - 128s 3ms/step - loss: 2.0666 - accuracy: 0.2355 - val_loss: 2.0250 - val_accuracy: 0.2738\n",
      "Epoch 22/30\n",
      "50000/50000 [==============================] - 128s 3ms/step - loss: 2.0634 - accuracy: 0.2384 - val_loss: 1.9990 - val_accuracy: 0.2924\n",
      "Epoch 23/30\n",
      "50000/50000 [==============================] - 128s 3ms/step - loss: 2.0456 - accuracy: 0.2436 - val_loss: 1.9860 - val_accuracy: 0.2929\n",
      "Epoch 24/30\n",
      "50000/50000 [==============================] - 128s 3ms/step - loss: 2.0412 - accuracy: 0.2458 - val_loss: 1.9972 - val_accuracy: 0.2847\n",
      "Epoch 25/30\n",
      "50000/50000 [==============================] - 128s 3ms/step - loss: 2.0290 - accuracy: 0.2531 - val_loss: 1.9616 - val_accuracy: 0.3027\n",
      "Epoch 26/30\n",
      "50000/50000 [==============================] - 127s 3ms/step - loss: 2.0100 - accuracy: 0.2608 - val_loss: 2.0481 - val_accuracy: 0.2633\n",
      "Epoch 27/30\n",
      "50000/50000 [==============================] - 128s 3ms/step - loss: 2.0172 - accuracy: 0.2602 - val_loss: 1.9408 - val_accuracy: 0.3172\n",
      "Epoch 28/30\n",
      "50000/50000 [==============================] - 131s 3ms/step - loss: 1.9989 - accuracy: 0.2679 - val_loss: 1.9297 - val_accuracy: 0.3186\n",
      "Epoch 29/30\n",
      "50000/50000 [==============================] - 129s 3ms/step - loss: 1.9898 - accuracy: 0.2731 - val_loss: 1.9415 - val_accuracy: 0.3156\n",
      "Epoch 30/30\n",
      "50000/50000 [==============================] - 128s 3ms/step - loss: 1.9775 - accuracy: 0.2750 - val_loss: 1.9080 - val_accuracy: 0.3301\n"
     ]
    },
    {
     "data": {
      "text/plain": [
       "'\\n   第四步：訓練\\n   .fit的一些參數\\n   batch_size：對總的樣本數進行分組，每組包含的樣本數量\\n   epochs ：訓練次數\\n   shuffle：是否把數據隨機打亂之後再進行訓練\\n   validation_split：拿出百分之多少用來做交叉驗證\\n   verbose：屏顯模式 - 0：不輸出, 1：輸出進度, 2：輸出每次的訓練結果\\n'"
      ]
     },
     "execution_count": 11,
     "metadata": {},
     "output_type": "execute_result"
    }
   ],
   "source": [
    "# 是否要做資料處理\n",
    "if not data_augmentation:\n",
    "    print('Not using data augmentation.')\n",
    "    history=model.fit(x_train, y_train,\n",
    "              batch_size=batch_size,\n",
    "              epochs=epochs,\n",
    "              validation_data=(x_test, y_test),\n",
    "              shuffle=True)\n",
    "else:\n",
    "    print('Using real-time data augmentation.')\n",
    "    print('')\n",
    "        \n",
    "    # This will do preprocessing and realtime data augmentation:\n",
    "    datagen = ImageDataGenerator(\n",
    "        featurewise_center=False,  # set input mean to 0 over the dataset\n",
    "        samplewise_center=False,  # set each sample mean to 0\n",
    "        featurewise_std_normalization=False,  # divide inputs by std of the dataset\n",
    "        samplewise_std_normalization=False,  # divide each input by its std\n",
    "        zca_whitening=False,  # apply ZCA whitening\n",
    "        zca_epsilon=1e-06,  # epsilon for ZCA whitening\n",
    "        rotation_range=0,  # randomly rotate images in the range (degrees, 0 to 180)\n",
    "        # randomly shift images horizontally (fraction of total width)\n",
    "        width_shift_range=0.1,\n",
    "        # randomly shift images vertically (fraction of total height)\n",
    "        height_shift_range=0.1,\n",
    "        shear_range=0.,  # set range for random shear\n",
    "        zoom_range=0.,  # set range for random zoom\n",
    "        channel_shift_range=0.,  # set range for random channel shifts\n",
    "        # set mode for filling points outside the input boundaries\n",
    "        fill_mode='nearest',\n",
    "        cval=0.,  # value used for fill_mode = \"constant\"\n",
    "        horizontal_flip=True,  # randomly flip images\n",
    "        vertical_flip=False,  # randomly flip images\n",
    "        # set rescaling factor (applied before any other transformation)\n",
    "        rescale=None,\n",
    "        # set function that will be applied on each input\n",
    "        preprocessing_function=None,\n",
    "        # image data format, either \"channels_first\" or \"channels_last\"\n",
    "        data_format=None,\n",
    "        # fraction of images reserved for validation (strictly between 0 and 1)\n",
    "        validation_split=0.0)\n",
    "\n",
    "    # Compute quantities required for feature-wise normalization\n",
    "    # (std, mean, and principal components if ZCA whitening is applied).\n",
    "    datagen.fit(x_train)\n",
    "    history=model.fit(x_train, y_train,\n",
    "              batch_size=batch_size,\n",
    "              epochs=epochs,\n",
    "              validation_data=(x_test, y_test),\n",
    "              shuffle=True)   \n",
    "\n",
    "'''\n",
    "   第四步：訓練\n",
    "   .fit的一些參數\n",
    "   batch_size：對總的樣本數進行分組，每組包含的樣本數量\n",
    "   epochs ：訓練次數\n",
    "   shuffle：是否把數據隨機打亂之後再進行訓練\n",
    "   validation_split：拿出百分之多少用來做交叉驗證\n",
    "   verbose：屏顯模式 - 0：不輸出, 1：輸出進度, 2：輸出每次的訓練結果\n",
    "''' \n",
    "    "
   ]
  },
  {
   "cell_type": "code",
   "execution_count": 12,
   "metadata": {},
   "outputs": [
    {
     "name": "stdout",
     "output_type": "stream",
     "text": [
      "Saved trained model at C:\\Users\\freet\\Documents\\3rd-100Dayclass\\Part_9_Deep learning with Keras\\Day076\\D76\\saved_models\\keras_cifar10_trained_model.h5 \n",
      "10000/10000 [==============================] - 13s 1ms/step\n",
      "Test loss: 1.907964592552185\n",
      "Test accuracy: 0.33009999990463257\n"
     ]
    }
   ],
   "source": [
    "# Save model and weights\n",
    "if not os.path.isdir(save_dir):\n",
    "    os.makedirs(save_dir)\n",
    "model_path = os.path.join(save_dir, model_name)\n",
    "model.save(model_path)\n",
    "print('Saved trained model at %s ' % model_path)\n",
    "\n",
    "#    第六步：輸出\n",
    "# Score trained model.\n",
    "scores = model.evaluate(x_test, y_test, verbose=1)\n",
    "print('Test loss:', scores[0])\n",
    "print('Test accuracy:', scores[1])"
   ]
  },
  {
   "cell_type": "code",
   "execution_count": 13,
   "metadata": {},
   "outputs": [
    {
     "data": {
      "image/png": "[encoded data removed]",
      "text/plain": [
       "<Figure size 432x288 with 1 Axes>"
      ]
     },
     "metadata": {
      "needs_background": "light"
     },
     "output_type": "display_data"
    },
    {
     "data": {
      "image/png": "[encoded data removed]",
      "text/plain": [
       "<Figure size 432x288 with 1 Axes>"
      ]
     },
     "metadata": {
      "needs_background": "light"
     },
     "output_type": "display_data"
    }
   ],
   "source": [
    "import matplotlib.pyplot as plt\n",
    "%matplotlib inline\n",
    "\n",
    "# Plot training & validation accuracy values\n",
    "plt.plot(history.history['accuracy'])\n",
    "plt.plot(history.history['val_accuracy'])\n",
    "plt.title('Model accuracy')\n",
    "plt.ylabel('Accuracy')\n",
    "plt.xlabel('Epoch')\n",
    "plt.legend(['Train', 'Valiidation'], loc='upper left')\n",
    "plt.show()\n",
    "\n",
    "# Plot training & validation loss values\n",
    "plt.plot(history.history['loss'])\n",
    "plt.plot(history.history['val_loss'])\n",
    "plt.title('Model loss')\n",
    "plt.ylabel('Loss')\n",
    "plt.xlabel('Epoch')\n",
    "plt.legend(['Train', 'Valiidation'], loc='upper left')\n",
    "plt.show()"
   ]
  },
  {
   "cell_type": "markdown",
   "metadata": {},
   "source": [
    "## 3.RMSprop"
   ]
  },
  {
   "cell_type": "code",
   "execution_count": 9,
   "metadata": {},
   "outputs": [],
   "source": [
    "model.compile(optimizer = rmsprop, loss = 'categorical_crossentropy', metrics = ['accuracy'])"
   ]
  },
  {
   "cell_type": "code",
   "execution_count": 10,
   "metadata": {},
   "outputs": [],
   "source": [
    "# 資料正規化\n",
    "x_train = x_train.astype('float32')\n",
    "x_test = x_test.astype('float32')\n",
    "x_train /= 255\n",
    "x_test /= 255"
   ]
  },
  {
   "cell_type": "code",
   "execution_count": 11,
   "metadata": {},
   "outputs": [
    {
     "name": "stdout",
     "output_type": "stream",
     "text": [
      "Using real-time data augmentation.\n",
      "\n",
      "Train on 50000 samples, validate on 10000 samples\n",
      "Epoch 1/30\n",
      "50000/50000 [==============================] - 217s 4ms/step - loss: 2.2402 - accuracy: 0.1757 - val_loss: 1.9685 - val_accuracy: 0.3038\n",
      "Epoch 2/30\n",
      "50000/50000 [==============================] - 216s 4ms/step - loss: 1.9337 - accuracy: 0.3015 - val_loss: 2.1481 - val_accuracy: 0.2642\n",
      "Epoch 3/30\n",
      "50000/50000 [==============================] - 214s 4ms/step - loss: 1.7924 - accuracy: 0.3586 - val_loss: 1.8439 - val_accuracy: 0.3466\n",
      "Epoch 4/30\n",
      "50000/50000 [==============================] - 215s 4ms/step - loss: 1.6788 - accuracy: 0.3986 - val_loss: 1.5052 - val_accuracy: 0.4547\n",
      "Epoch 5/30\n",
      "50000/50000 [==============================] - 215s 4ms/step - loss: 1.6049 - accuracy: 0.4321 - val_loss: 1.5984 - val_accuracy: 0.4139\n",
      "Epoch 6/30\n",
      "50000/50000 [==============================] - 218s 4ms/step - loss: 1.5186 - accuracy: 0.4632 - val_loss: 1.3797 - val_accuracy: 0.4977\n",
      "Epoch 7/30\n",
      "50000/50000 [==============================] - 215s 4ms/step - loss: 1.4627 - accuracy: 0.4843 - val_loss: 1.3347 - val_accuracy: 0.5245\n",
      "Epoch 8/30\n",
      "50000/50000 [==============================] - 217s 4ms/step - loss: 1.3867 - accuracy: 0.5112 - val_loss: 1.5327 - val_accuracy: 0.4856\n",
      "Epoch 9/30\n",
      "50000/50000 [==============================] - 219s 4ms/step - loss: 1.3502 - accuracy: 0.5274 - val_loss: 1.4206 - val_accuracy: 0.4955\n",
      "Epoch 10/30\n",
      "50000/50000 [==============================] - 214s 4ms/step - loss: 1.2875 - accuracy: 0.5462 - val_loss: 1.2572 - val_accuracy: 0.5465\n",
      "Epoch 11/30\n",
      "50000/50000 [==============================] - 214s 4ms/step - loss: 1.2739 - accuracy: 0.5559 - val_loss: 1.1917 - val_accuracy: 0.5789\n",
      "Epoch 12/30\n",
      "50000/50000 [==============================] - 215s 4ms/step - loss: 1.2172 - accuracy: 0.5743 - val_loss: 1.2865 - val_accuracy: 0.5454\n",
      "Epoch 13/30\n",
      "50000/50000 [==============================] - 215s 4ms/step - loss: 1.1783 - accuracy: 0.5872 - val_loss: 1.1639 - val_accuracy: 0.6015\n",
      "Epoch 14/30\n",
      "50000/50000 [==============================] - 218s 4ms/step - loss: 1.1426 - accuracy: 0.5979 - val_loss: 1.1146 - val_accuracy: 0.6071\n",
      "Epoch 15/30\n",
      "50000/50000 [==============================] - 214s 4ms/step - loss: 1.1056 - accuracy: 0.6130 - val_loss: 1.0517 - val_accuracy: 0.6354\n",
      "Epoch 16/30\n",
      "50000/50000 [==============================] - 215s 4ms/step - loss: 1.0780 - accuracy: 0.6225 - val_loss: 1.1319 - val_accuracy: 0.6069\n",
      "Epoch 17/30\n",
      "50000/50000 [==============================] - 214s 4ms/step - loss: 1.0428 - accuracy: 0.6360 - val_loss: 0.9621 - val_accuracy: 0.6582\n",
      "Epoch 18/30\n",
      "50000/50000 [==============================] - 214s 4ms/step - loss: 1.0155 - accuracy: 0.6473 - val_loss: 1.0198 - val_accuracy: 0.6487\n",
      "Epoch 19/30\n",
      "50000/50000 [==============================] - 215s 4ms/step - loss: 1.0018 - accuracy: 0.6494 - val_loss: 1.0209 - val_accuracy: 0.6552\n",
      "Epoch 20/30\n",
      "50000/50000 [==============================] - 214s 4ms/step - loss: 0.9539 - accuracy: 0.6672 - val_loss: 1.0720 - val_accuracy: 0.6379\n",
      "Epoch 21/30\n",
      "50000/50000 [==============================] - 214s 4ms/step - loss: 0.9247 - accuracy: 0.6791 - val_loss: 0.8867 - val_accuracy: 0.6888\n",
      "Epoch 22/30\n",
      "50000/50000 [==============================] - 214s 4ms/step - loss: 0.9037 - accuracy: 0.6852 - val_loss: 0.8986 - val_accuracy: 0.6962\n",
      "Epoch 23/30\n",
      "50000/50000 [==============================] - 214s 4ms/step - loss: 0.8791 - accuracy: 0.6919 - val_loss: 0.8877 - val_accuracy: 0.6978\n",
      "Epoch 24/30\n",
      "50000/50000 [==============================] - 214s 4ms/step - loss: 0.8796 - accuracy: 0.6932 - val_loss: 0.8325 - val_accuracy: 0.7147\n",
      "Epoch 25/30\n",
      "50000/50000 [==============================] - 214s 4ms/step - loss: 0.8230 - accuracy: 0.7129 - val_loss: 0.8775 - val_accuracy: 0.6957\n",
      "Epoch 26/30\n",
      "50000/50000 [==============================] - 215s 4ms/step - loss: 0.8153 - accuracy: 0.7179 - val_loss: 0.8407 - val_accuracy: 0.7113\n",
      "Epoch 27/30\n",
      "50000/50000 [==============================] - 215s 4ms/step - loss: 0.7921 - accuracy: 0.7251 - val_loss: 0.9053 - val_accuracy: 0.6870\n",
      "Epoch 28/30\n",
      "50000/50000 [==============================] - 215s 4ms/step - loss: 0.7697 - accuracy: 0.7309 - val_loss: 0.8502 - val_accuracy: 0.7083\n",
      "Epoch 29/30\n",
      "50000/50000 [==============================] - 214s 4ms/step - loss: 0.7560 - accuracy: 0.7374 - val_loss: 0.7949 - val_accuracy: 0.7328\n",
      "Epoch 30/30\n",
      "50000/50000 [==============================] - 217s 4ms/step - loss: 0.7456 - accuracy: 0.7425 - val_loss: 0.7810 - val_accuracy: 0.7350\n"
     ]
    },
    {
     "data": {
      "text/plain": [
       "'\\n   第四步：訓練\\n   .fit的一些參數\\n   batch_size：對總的樣本數進行分組，每組包含的樣本數量\\n   epochs ：訓練次數\\n   shuffle：是否把數據隨機打亂之後再進行訓練\\n   validation_split：拿出百分之多少用來做交叉驗證\\n   verbose：屏顯模式 - 0：不輸出, 1：輸出進度, 2：輸出每次的訓練結果\\n'"
      ]
     },
     "execution_count": 11,
     "metadata": {},
     "output_type": "execute_result"
    }
   ],
   "source": [
    "# 是否要做資料處理\n",
    "if not data_augmentation:\n",
    "    print('Not using data augmentation.')\n",
    "    history=model.fit(x_train, y_train,\n",
    "              batch_size=batch_size,\n",
    "              epochs=epochs,\n",
    "              validation_data=(x_test, y_test),\n",
    "              shuffle=True)\n",
    "else:\n",
    "    print('Using real-time data augmentation.')\n",
    "    print('')\n",
    "        \n",
    "    # This will do preprocessing and realtime data augmentation:\n",
    "    datagen = ImageDataGenerator(\n",
    "        featurewise_center=False,  # set input mean to 0 over the dataset\n",
    "        samplewise_center=False,  # set each sample mean to 0\n",
    "        featurewise_std_normalization=False,  # divide inputs by std of the dataset\n",
    "        samplewise_std_normalization=False,  # divide each input by its std\n",
    "        zca_whitening=False,  # apply ZCA whitening\n",
    "        zca_epsilon=1e-06,  # epsilon for ZCA whitening\n",
    "        rotation_range=0,  # randomly rotate images in the range (degrees, 0 to 180)\n",
    "        # randomly shift images horizontally (fraction of total width)\n",
    "        width_shift_range=0.1,\n",
    "        # randomly shift images vertically (fraction of total height)\n",
    "        height_shift_range=0.1,\n",
    "        shear_range=0.,  # set range for random shear\n",
    "        zoom_range=0.,  # set range for random zoom\n",
    "        channel_shift_range=0.,  # set range for random channel shifts\n",
    "        # set mode for filling points outside the input boundaries\n",
    "        fill_mode='nearest',\n",
    "        cval=0.,  # value used for fill_mode = \"constant\"\n",
    "        horizontal_flip=True,  # randomly flip images\n",
    "        vertical_flip=False,  # randomly flip images\n",
    "        # set rescaling factor (applied before any other transformation)\n",
    "        rescale=None,\n",
    "        # set function that will be applied on each input\n",
    "        preprocessing_function=None,\n",
    "        # image data format, either \"channels_first\" or \"channels_last\"\n",
    "        data_format=None,\n",
    "        # fraction of images reserved for validation (strictly between 0 and 1)\n",
    "        validation_split=0.0)\n",
    "\n",
    "    # Compute quantities required for feature-wise normalization\n",
    "    # (std, mean, and principal components if ZCA whitening is applied).\n",
    "    datagen.fit(x_train)\n",
    "    history=model.fit(x_train, y_train,\n",
    "              batch_size=batch_size,\n",
    "              epochs=epochs,\n",
    "              validation_data=(x_test, y_test),\n",
    "              shuffle=True)   \n",
    "\n",
    "'''\n",
    "   第四步：訓練\n",
    "   .fit的一些參數\n",
    "   batch_size：對總的樣本數進行分組，每組包含的樣本數量\n",
    "   epochs ：訓練次數\n",
    "   shuffle：是否把數據隨機打亂之後再進行訓練\n",
    "   validation_split：拿出百分之多少用來做交叉驗證\n",
    "   verbose：屏顯模式 - 0：不輸出, 1：輸出進度, 2：輸出每次的訓練結果\n",
    "''' \n",
    "    "
   ]
  },
  {
   "cell_type": "code",
   "execution_count": 12,
   "metadata": {},
   "outputs": [
    {
     "name": "stdout",
     "output_type": "stream",
     "text": [
      "Saved trained model at C:\\Users\\freet\\Documents\\3rd-100Dayclass\\Part_9_Deep learning with Keras\\Day076\\D76\\saved_models\\keras_cifar10_trained_model.h5 \n",
      "10000/10000 [==============================] - 13s 1ms/step\n",
      "Test loss: 0.7810162509918213\n",
      "Test accuracy: 0.7350000143051147\n"
     ]
    }
   ],
   "source": [
    "# Save model and weights\n",
    "if not os.path.isdir(save_dir):\n",
    "    os.makedirs(save_dir)\n",
    "model_path = os.path.join(save_dir, model_name)\n",
    "model.save(model_path)\n",
    "print('Saved trained model at %s ' % model_path)\n",
    "\n",
    "#    第六步：輸出\n",
    "# Score trained model.\n",
    "scores = model.evaluate(x_test, y_test, verbose=1)\n",
    "print('Test loss:', scores[0])\n",
    "print('Test accuracy:', scores[1])"
   ]
  },
  {
   "cell_type": "code",
   "execution_count": 13,
   "metadata": {},
   "outputs": [
    {
     "data": {
      "image/png": "[encoded data removed]",
      "text/plain": [
       "<Figure size 432x288 with 1 Axes>"
      ]
     },
     "metadata": {
      "needs_background": "light"
     },
     "output_type": "display_data"
    },
    {
     "data": {
      "image/png": "[encoded data removed]",
      "text/plain": [
       "<Figure size 432x288 with 1 Axes>"
      ]
     },
     "metadata": {
      "needs_background": "light"
     },
     "output_type": "display_data"
    }
   ],
   "source": [
    "import matplotlib.pyplot as plt\n",
    "%matplotlib inline\n",
    "\n",
    "# Plot training & validation accuracy values\n",
    "plt.plot(history.history['accuracy'])\n",
    "plt.plot(history.history['val_accuracy'])\n",
    "plt.title('Model accuracy')\n",
    "plt.ylabel('Accuracy')\n",
    "plt.xlabel('Epoch')\n",
    "plt.legend(['Train', 'Valiidation'], loc='upper left')\n",
    "plt.show()\n",
    "\n",
    "# Plot training & validation loss values\n",
    "plt.plot(history.history['loss'])\n",
    "plt.plot(history.history['val_loss'])\n",
    "plt.title('Model loss')\n",
    "plt.ylabel('Loss')\n",
    "plt.xlabel('Epoch')\n",
    "plt.legend(['Train', 'Valiidation'], loc='upper left')\n",
    "plt.show()"
   ]
  }
 ],
 "metadata": {
  "kernelspec": {
   "display_name": "Python 3",
   "language": "python",
   "name": "python3"
  },
  "language_info": {
   "codemirror_mode": {
    "name": "ipython",
    "version": 3
   },
   "file_extension": ".py",
   "mimetype": "text/x-python",
   "name": "python",
   "nbconvert_exporter": "python",
   "pygments_lexer": "ipython3",
   "version": "3.5.6"
  }
 },
 "nbformat": 4,
 "nbformat_minor": 2
}
