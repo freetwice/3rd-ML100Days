{
 "cells": [
  {
   "cell_type": "markdown",
   "metadata": {},
   "source": [
    "## [作業重點]\n",
    "使用 Sklearn 中的 Lasso, Ridge 模型，來訓練各種資料集，務必了解送進去模型訓練的**資料型態**為何，也請了解模型中各項參數的意義。\n",
    "\n",
    "機器學習的模型非常多種，但要訓練的資料多半有固定的格式，確保你了解訓練資料的格式為何，這樣在應用新模型時，就能夠最快的上手開始訓練！"
   ]
  },
  {
   "cell_type": "markdown",
   "metadata": {},
   "source": [
    "## 練習時間\n",
    "試著使用 sklearn datasets 的其他資料集 (boston, ...)，來訓練自己的線性迴歸模型，並加上適當的正則化來觀察訓練情形。"
   ]
  },
  {
   "cell_type": "markdown",
   "metadata": {},
   "source": [
    "### 載入相關套件"
   ]
  },
  {
   "cell_type": "code",
   "execution_count": 1,
   "metadata": {},
   "outputs": [
    {
     "name": "stderr",
     "output_type": "stream",
     "text": [
      "C:\\Users\\freet\\Anaconda3\\lib\\importlib\\_bootstrap.py:219: RuntimeWarning: numpy.ufunc size changed, may indicate binary incompatibility. Expected 192 from C header, got 216 from PyObject\n",
      "  return f(*args, **kwds)\n"
     ]
    }
   ],
   "source": [
    "import numpy as np\n",
    "import matplotlib.pyplot as plt\n",
    "from sklearn import datasets, linear_model\n",
    "from sklearn.model_selection import train_test_split\n",
    "from sklearn.metrics import mean_squared_error"
   ]
  },
  {
   "cell_type": "markdown",
   "metadata": {},
   "source": [
    "### 載入波士頓資料"
   ]
  },
  {
   "cell_type": "code",
   "execution_count": 3,
   "metadata": {},
   "outputs": [
    {
     "data": {
      "text/plain": [
       "dict_keys(['data', 'target', 'feature_names', 'DESCR', 'filename'])"
      ]
     },
     "execution_count": 3,
     "metadata": {},
     "output_type": "execute_result"
    }
   ],
   "source": [
    "boston = datasets.load_boston()\n",
    "boston.keys()"
   ]
  },
  {
   "cell_type": "code",
   "execution_count": 5,
   "metadata": {},
   "outputs": [
    {
     "name": "stdout",
     "output_type": "stream",
     "text": [
      ".. _boston_dataset:\n",
      "\n",
      "Boston house prices dataset\n",
      "---------------------------\n",
      "\n",
      "**Data Set Characteristics:**  \n",
      "\n",
      "    :Number of Instances: 506 \n",
      "\n",
      "    :Number of Attributes: 13 numeric/categorical predictive. Median Value (attribute 14) is usually the target.\n",
      "\n",
      "    :Attribute Information (in order):\n",
      "        - CRIM     per capita crime rate by town\n",
      "        - ZN       proportion of residential land zoned for lots over 25,000 sq.ft.\n",
      "        - INDUS    proportion of non-retail business acres per town\n",
      "        - CHAS     Charles River dummy variable (= 1 if tract bounds river; 0 otherwise)\n",
      "        - NOX      nitric oxides concentration (parts per 10 million)\n",
      "        - RM       average number of rooms per dwelling\n",
      "        - AGE      proportion of owner-occupied units built prior to 1940\n",
      "        - DIS      weighted distances to five Boston employment centres\n",
      "        - RAD      index of accessibility to radial highways\n",
      "        - TAX      full-value property-tax rate per $10,000\n",
      "        - PTRATIO  pupil-teacher ratio by town\n",
      "        - B        1000(Bk - 0.63)^2 where Bk is the proportion of blacks by town\n",
      "        - LSTAT    % lower status of the population\n",
      "        - MEDV     Median value of owner-occupied homes in $1000's\n",
      "\n",
      "    :Missing Attribute Values: None\n",
      "\n",
      "    :Creator: Harrison, D. and Rubinfeld, D.L.\n",
      "\n",
      "This is a copy of UCI ML housing dataset.\n",
      "https://archive.ics.uci.edu/ml/machine-learning-databases/housing/\n",
      "\n",
      "\n",
      "This dataset was taken from the StatLib library which is maintained at Carnegie Mellon University.\n",
      "\n",
      "The Boston house-price data of Harrison, D. and Rubinfeld, D.L. 'Hedonic\n",
      "prices and the demand for clean air', J. Environ. Economics & Management,\n",
      "vol.5, 81-102, 1978.   Used in Belsley, Kuh & Welsch, 'Regression diagnostics\n",
      "...', Wiley, 1980.   N.B. Various transformations are used in the table on\n",
      "pages 244-261 of the latter.\n",
      "\n",
      "The Boston house-price data has been used in many machine learning papers that address regression\n",
      "problems.   \n",
      "     \n",
      ".. topic:: References\n",
      "\n",
      "   - Belsley, Kuh & Welsch, 'Regression diagnostics: Identifying Influential Data and Sources of Collinearity', Wiley, 1980. 244-261.\n",
      "   - Quinlan,R. (1993). Combining Instance-Based and Model-Based Learning. In Proceedings on the Tenth International Conference of Machine Learning, 236-243, University of Massachusetts, Amherst. Morgan Kaufmann.\n",
      "\n"
     ]
    }
   ],
   "source": [
    "print(boston['DESCR'])"
   ]
  },
  {
   "cell_type": "markdown",
   "metadata": {},
   "source": [
    "### 切分訓練集與測試集"
   ]
  },
  {
   "cell_type": "code",
   "execution_count": 10,
   "metadata": {},
   "outputs": [],
   "source": [
    "X_train, X_test, y_train, y_test = train_test_split(boston.data, boston.target, test_size=0.2, random_state=4)"
   ]
  },
  {
   "cell_type": "markdown",
   "metadata": {},
   "source": [
    "### 線性回歸模型"
   ]
  },
  {
   "cell_type": "code",
   "execution_count": 11,
   "metadata": {},
   "outputs": [
    {
     "data": {
      "text/plain": [
       "LinearRegression(copy_X=True, fit_intercept=True, n_jobs=None, normalize=False)"
      ]
     },
     "execution_count": 11,
     "metadata": {},
     "output_type": "execute_result"
    }
   ],
   "source": [
    "linreg = linear_model.LinearRegression()\n",
    "linreg.fit(X_train, y_train)"
   ]
  },
  {
   "cell_type": "code",
   "execution_count": 14,
   "metadata": {},
   "outputs": [],
   "source": [
    "y_pred = linreg.predict(X_test)"
   ]
  },
  {
   "cell_type": "code",
   "execution_count": 16,
   "metadata": {},
   "outputs": [
    {
     "name": "stdout",
     "output_type": "stream",
     "text": [
      "[-1.15966452e-01  4.71249231e-02  8.25980146e-03  3.23404531e+00\n",
      " -1.66865890e+01  3.88410651e+00 -1.08974442e-02 -1.54129540e+00\n",
      "  2.93208309e-01 -1.34059383e-02 -9.06296429e-01  8.80823439e-03\n",
      " -4.57723846e-01]\n"
     ]
    }
   ],
   "source": [
    "# 輸出模型參數\n",
    "print(linreg.coef_)"
   ]
  },
  {
   "cell_type": "code",
   "execution_count": 18,
   "metadata": {},
   "outputs": [
    {
     "name": "stdout",
     "output_type": "stream",
     "text": [
      "MSE:  25.41958712682191\n"
     ]
    }
   ],
   "source": [
    "# 評估模型績效，比較預測值與實際值的差距\n",
    "print('MSE: ', mean_squared_error(y_test, y_pred))"
   ]
  },
  {
   "cell_type": "markdown",
   "metadata": {},
   "source": [
    "### Lasso\n",
    "#### 1.自行設定懲罰程度"
   ]
  },
  {
   "cell_type": "code",
   "execution_count": 29,
   "metadata": {},
   "outputs": [
    {
     "name": "stdout",
     "output_type": "stream",
     "text": [
      "[0.1  0.25 0.4  0.55 0.7  0.85]\n"
     ]
    }
   ],
   "source": [
    "alpha_degree = np.arange(0.1,1,0.15)\n",
    "print(alpha)"
   ]
  },
  {
   "cell_type": "code",
   "execution_count": 30,
   "metadata": {},
   "outputs": [
    {
     "name": "stdout",
     "output_type": "stream",
     "text": [
      "[-0.10618872  0.04886351 -0.04536655  1.14953069 -0.          3.82353877\n",
      " -0.02089779 -1.23590613  0.26008876 -0.01517094 -0.74673362  0.00963864\n",
      " -0.49877104]\n",
      "MSE: 26.45288885360415\n",
      "=========\n",
      "[-0.10104019  0.04880253 -0.02613895  0.         -0.          3.4145279\n",
      " -0.01364913 -1.14216044  0.26486613 -0.01577282 -0.75187568  0.0094572\n",
      " -0.53589797]\n",
      "MSE: 26.615553722454397\n",
      "=========\n",
      "[-0.09357707  0.04849608 -0.01709909  0.         -0.          2.96241331\n",
      " -0.00730705 -1.04750542  0.25993294 -0.01586888 -0.74026437  0.00908944\n",
      " -0.56962123]\n",
      "MSE: 26.759412785954986\n",
      "=========\n",
      "[-8.61135687e-02  4.81887989e-02 -8.06097804e-03  0.00000000e+00\n",
      " -0.00000000e+00  2.51032397e+00 -9.65895063e-04 -9.52848967e-01\n",
      "  2.54996267e-01 -1.59647382e-02 -7.28654312e-01  8.72169797e-03\n",
      " -6.03341071e-01]\n",
      "MSE: 27.064400782882736\n",
      "=========\n",
      "[-7.91297148e-02  4.72549632e-02 -0.00000000e+00  0.00000000e+00\n",
      " -0.00000000e+00  2.08599802e+00  2.49156109e-04 -8.94686247e-01\n",
      "  2.48898278e-01 -1.59368404e-02 -7.17088164e-01  8.39764158e-03\n",
      " -6.29632147e-01]\n",
      "MSE: 27.58985801579118\n",
      "=========\n",
      "[-0.07203996  0.04653473 -0.          0.         -0.          1.63369797\n",
      "  0.00567011 -0.81582142  0.24120054 -0.01572379 -0.70489879  0.00801462\n",
      " -0.66120845]\n",
      "MSE: 28.195443769059864\n",
      "=========\n"
     ]
    }
   ],
   "source": [
    "alpha_degree = np.arange(0.1,1,0.15)\n",
    "for a in alpha_degree:\n",
    "    Lasso = linear_model.Lasso(alpha = a)\n",
    "    Lasso.fit(X_train, y_train)\n",
    "    y_pred = Lasso.predict(X_test)\n",
    "# 輸出各特徵對應的係數，查看特徵提取結果\n",
    "    print(Lasso.coef_)\n",
    "    print('MSE:', mean_squared_error(y_test, y_pred))\n",
    "    print(\"=========\")"
   ]
  },
  {
   "cell_type": "markdown",
   "metadata": {},
   "source": [
    "#### 2. 自動找出最適的懲罰程度"
   ]
  },
  {
   "cell_type": "code",
   "execution_count": 31,
   "metadata": {},
   "outputs": [
    {
     "name": "stderr",
     "output_type": "stream",
     "text": [
      "C:\\Users\\freet\\Anaconda3\\lib\\site-packages\\sklearn\\model_selection\\_split.py:1978: FutureWarning: The default value of cv will change from 3 to 5 in version 0.22. Specify it explicitly to silence this warning.\n",
      "  warnings.warn(CV_WARNING, FutureWarning)\n"
     ]
    },
    {
     "data": {
      "text/plain": [
       "LassoCV(alphas=None, copy_X=True, cv='warn', eps=0.001, fit_intercept=True,\n",
       "        max_iter=1000, n_alphas=100, n_jobs=None, normalize=False,\n",
       "        positive=False, precompute='auto', random_state=None,\n",
       "        selection='cyclic', tol=0.0001, verbose=False)"
      ]
     },
     "execution_count": 31,
     "metadata": {},
     "output_type": "execute_result"
    }
   ],
   "source": [
    "Lasso_auto = linear_model.LassoCV()\n",
    "Lasso_auto.fit(X_train, y_train)"
   ]
  },
  {
   "cell_type": "code",
   "execution_count": 36,
   "metadata": {},
   "outputs": [
    {
     "name": "stdout",
     "output_type": "stream",
     "text": [
      "Lasso coef:  [-0.07597807  0.04693471 -0.          0.         -0.          1.88477857\n",
      "  0.00266078 -0.85960091  0.24548459 -0.01584248 -0.71166933  0.00822731\n",
      " -0.64367859]\n",
      "Lasso alpha value:  0.7667290492353686\n",
      "MSE:  28.195443769059864\n"
     ]
    }
   ],
   "source": [
    "pred_y = Lasso_auto.predict(X_test)\n",
    "print('Lasso coef: ',Lasso_auto.coef_)\n",
    "print('Lasso alpha value: ', Lasso_auto.alpha_)\n",
    "print('MSE: ', mean_squared_error(y_test, y_pred))"
   ]
  },
  {
   "cell_type": "markdown",
   "metadata": {},
   "source": [
    "### Ridge\n",
    "#### 1.自行設定懲罰程度"
   ]
  },
  {
   "cell_type": "code",
   "execution_count": 38,
   "metadata": {},
   "outputs": [
    {
     "name": "stdout",
     "output_type": "stream",
     "text": [
      "[-1.15381303e-01  4.72528249e-02  2.87371589e-03  3.19642306e+00\n",
      " -1.54713824e+01  3.89388927e+00 -1.19943742e-02 -1.52347878e+00\n",
      "  2.90133016e-01 -1.34816989e-02 -8.93679905e-01  8.86599187e-03\n",
      " -4.58983115e-01]\n",
      "MSE: 25.45521174977981\n",
      "=========\n",
      "[-1.14651940e-01  4.74169041e-02 -3.86509860e-03  3.14636886e+00\n",
      " -1.39471613e+01  3.90538343e+00 -1.33609910e-02 -1.50112557e+00\n",
      "  2.86315374e-01 -1.35785155e-02 -8.77924960e-01  8.93838361e-03\n",
      " -4.60633067e-01]\n",
      "MSE: 25.510305932787105\n",
      "=========\n",
      "[-1.14058018e-01  4.75555797e-02 -9.37975572e-03  3.10219943e+00\n",
      " -1.26957536e+01  3.91397318e+00 -1.44729578e-02 -1.48276650e+00\n",
      "  2.83223835e-01 -1.36599334e-02 -8.65065260e-01  8.99775310e-03\n",
      " -4.62064307e-01]\n",
      "MSE: 25.56401402713557\n",
      "=========\n",
      "[-1.13566051e-01  4.76750824e-02 -1.39723261e-02  3.06252152e+00\n",
      " -1.16499422e+01  3.92037529e+00 -1.53930804e-02 -1.46741726e+00\n",
      "  2.80678953e-01 -1.37297194e-02 -8.54386488e-01  9.04730140e-03\n",
      " -4.63330325e-01]\n",
      "MSE: 25.614591773146778\n",
      "=========\n",
      "[-1.13152721e-01  4.77797521e-02 -1.78531666e-02  3.02636342e+00\n",
      " -1.07629157e+01  3.92508896e+00 -1.61650971e-02 -1.45439235e+00\n",
      "  2.78555770e-01 -1.37904976e-02 -8.45391201e-01  9.08925806e-03\n",
      " -4.64468379e-01]\n",
      "MSE: 25.66141601545958\n",
      "=========\n",
      "[-1.12801293e-01  4.78727042e-02 -2.11732680e-02  2.99302636e+00\n",
      " -1.00010708e+01  3.92847259e+00 -1.68204036e-02 -1.44319969e+00\n",
      "  2.76764596e-01 -1.38441520e-02 -8.37722332e-01  9.12522370e-03\n",
      " -4.65505216e-01]\n",
      "MSE: 25.70439509646644\n",
      "=========\n"
     ]
    }
   ],
   "source": [
    "alpha_degree = np.arange(0.1,1,0.15)\n",
    "for a in alpha_degree:\n",
    "    ridge = linear_model.Ridge(alpha = a)\n",
    "    ridge.fit(X_train, y_train)\n",
    "    y_pred = ridge.predict(X_test)\n",
    "# 輸出各特徵對應的係數，查看特徵提取結果\n",
    "    print(ridge.coef_)\n",
    "    print('MSE:', mean_squared_error(y_test, y_pred))\n",
    "    print(\"=========\")"
   ]
  },
  {
   "cell_type": "markdown",
   "metadata": {},
   "source": [
    "#### 2.自動找出最適懲罰程度"
   ]
  },
  {
   "cell_type": "code",
   "execution_count": 39,
   "metadata": {},
   "outputs": [
    {
     "data": {
      "text/plain": [
       "RidgeCV(alphas=array([ 0.1,  1. , 10. ]), cv=None, fit_intercept=True,\n",
       "        gcv_mode=None, normalize=False, scoring=None, store_cv_values=False)"
      ]
     },
     "execution_count": 39,
     "metadata": {},
     "output_type": "execute_result"
    }
   ],
   "source": [
    "ridge_auto = linear_model.RidgeCV()\n",
    "ridge_auto.fit(X_train, y_train)"
   ]
  },
  {
   "cell_type": "code",
   "execution_count": 40,
   "metadata": {},
   "outputs": [
    {
     "name": "stdout",
     "output_type": "stream",
     "text": [
      "Lasso coef:  [-1.15381302e-01  4.72528248e-02  2.87371594e-03  3.19642306e+00\n",
      " -1.54713824e+01  3.89388927e+00 -1.19943739e-02 -1.52347878e+00\n",
      "  2.90133016e-01 -1.34816980e-02 -8.93679905e-01  8.86599150e-03\n",
      " -4.58983115e-01]\n",
      "Lasso alpha value:  0.1\n",
      "MSE:  25.70439509646644\n"
     ]
    }
   ],
   "source": [
    "pred_y = ridge_auto.predict(X_test)\n",
    "print('Lasso coef: ',ridge_auto.coef_)\n",
    "print('Lasso alpha value: ', ridge_auto.alpha_)\n",
    "print('MSE: ', mean_squared_error(y_test, y_pred))"
   ]
  }
 ],
 "metadata": {
  "kernelspec": {
   "display_name": "Python 3",
   "language": "python",
   "name": "python3"
  },
  "language_info": {
   "codemirror_mode": {
    "name": "ipython",
    "version": 3
   },
   "file_extension": ".py",
   "mimetype": "text/x-python",
   "name": "python",
   "nbconvert_exporter": "python",
   "pygments_lexer": "ipython3",
   "version": "3.7.3"
  }
 },
 "nbformat": 4,
 "nbformat_minor": 2
}
