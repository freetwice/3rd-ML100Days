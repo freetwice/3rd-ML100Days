{
 "cells": [
  {
   "cell_type": "markdown",
   "metadata": {},
   "source": [
    "## Work\n",
    "1. 請嘗試將 preproc_x 替換成以每筆資料的 min/max 進行標準化至 -1 ~ 1 間，再進行訓練\n",
    "2. 請嘗試將 mlp 疊更深 (e.g 5~10 層)，進行訓練後觀察 learning curve 的走勢\n",
    "3. (optional) 請改用 GPU 進行訓練 (如果你有 GPU 的話)，比較使用 CPU 與 GPU 的訓練速度"
   ]
  },
  {
   "cell_type": "code",
   "execution_count": 1,
   "metadata": {},
   "outputs": [
    {
     "data": {
      "text/plain": [
       "'\\nYour code here (optional)\\n確認硬體資源\\n'"
      ]
     },
     "execution_count": 1,
     "metadata": {},
     "output_type": "execute_result"
    }
   ],
   "source": [
    "## \n",
    "\"\"\"\n",
    "Your code here (optional)\n",
    "確認硬體資源\n",
    "\"\"\"\n",
    "# 我的筆電沒有用gpu所以就不用 !nvidia-smi"
   ]
  },
  {
   "cell_type": "code",
   "execution_count": 2,
   "metadata": {},
   "outputs": [
    {
     "name": "stderr",
     "output_type": "stream",
     "text": [
      "Using TensorFlow backend.\n"
     ]
    }
   ],
   "source": [
    "import os\n",
    "import keras\n",
    "\n",
    "# 請嘗試設定 GPU：os.environ\n",
    "# 我的沒有GPU，所以沒設定"
   ]
  },
  {
   "cell_type": "code",
   "execution_count": 3,
   "metadata": {},
   "outputs": [],
   "source": [
    "train, test = keras.datasets.cifar10.load_data()"
   ]
  },
  {
   "cell_type": "code",
   "execution_count": 6,
   "metadata": {},
   "outputs": [],
   "source": [
    "## 資料前處理\n",
    "\"\"\"\n",
    "Your code here\n",
    "\"\"\"\n",
    "def preproc_x(x, flatten = True):\n",
    "    x = 2*((x-x.min())/(x.max()-x.min())) -1\n",
    "    if flatten:\n",
    "        x = x.reshape((len(x), -1))\n",
    "    return x\n",
    "\n",
    "def preproc_y(y, num_class = 10):\n",
    "    if y.shape[-1] ==1:\n",
    "        y = keras.utils.to_categorical(y, num_class)\n",
    "    return y"
   ]
  },
  {
   "cell_type": "code",
   "execution_count": 7,
   "metadata": {},
   "outputs": [],
   "source": [
    "x_train, y_train = train\n",
    "x_test, y_test = test\n",
    "\n",
    "# Preproc the inputs\n",
    "x_train = preproc_x(x_train)\n",
    "x_test = preproc_x(x_test)\n",
    "\n",
    "# Preprc the outputs\n",
    "y_train = preproc_y(y_train)\n",
    "y_test = preproc_y(y_test)"
   ]
  },
  {
   "cell_type": "code",
   "execution_count": 9,
   "metadata": {},
   "outputs": [],
   "source": [
    "\"\"\"Code Here\n",
    "建立你的神經網路\n",
    "\"\"\"\n",
    "def build_mlp(input_shape, output_units=10, num_nerons=[512, 256, 128, 64, 8]):\n",
    "    input_layer = keras.layers.Input(input_shape)\n",
    "    \n",
    "    for i, n_units in enumerate(num_nerons):\n",
    "        if i==0:\n",
    "            x = keras.layers.Dense(units= n_units, activation='relu', name='hidden_layer'+str(i+1))(input_layer)\n",
    "        else:\n",
    "            x = keras.layers.Dense(units= n_units, activation='relu', name='hidden_layer'+str(i+1))(x)\n",
    "    out = keras.layers.Dense(units= output_units, activation='softmax', name='output')(x)\n",
    "    \n",
    "    model = keras.models.Model(inputs=[input_layer], outputs=[out])\n",
    "    \n",
    "    return model"
   ]
  },
  {
   "cell_type": "code",
   "execution_count": 10,
   "metadata": {},
   "outputs": [
    {
     "name": "stdout",
     "output_type": "stream",
     "text": [
      "Model: \"model_1\"\n",
      "_________________________________________________________________\n",
      "Layer (type)                 Output Shape              Param #   \n",
      "=================================================================\n",
      "input_1 (InputLayer)         (None, 3072)              0         \n",
      "_________________________________________________________________\n",
      "hidden_layer1 (Dense)        (None, 512)               1573376   \n",
      "_________________________________________________________________\n",
      "hidden_layer2 (Dense)        (None, 256)               131328    \n",
      "_________________________________________________________________\n",
      "hidden_layer3 (Dense)        (None, 128)               32896     \n",
      "_________________________________________________________________\n",
      "hidden_layer4 (Dense)        (None, 64)                8256      \n",
      "_________________________________________________________________\n",
      "hidden_layer5 (Dense)        (None, 8)                 520       \n",
      "_________________________________________________________________\n",
      "output (Dense)               (None, 10)                90        \n",
      "=================================================================\n",
      "Total params: 1,746,466\n",
      "Trainable params: 1,746,466\n",
      "Non-trainable params: 0\n",
      "_________________________________________________________________\n"
     ]
    }
   ],
   "source": [
    "model = build_mlp(input_shape=x_train.shape[1:])\n",
    "model.summary()"
   ]
  },
  {
   "cell_type": "code",
   "execution_count": 11,
   "metadata": {},
   "outputs": [],
   "source": [
    "## 超參數設定\n",
    "LEARNING_RATE = 0.001\n",
    "EPOCHS = 100\n",
    "BATCH_SIZE = 256"
   ]
  },
  {
   "cell_type": "code",
   "execution_count": 12,
   "metadata": {},
   "outputs": [],
   "source": [
    "optimizer = keras.optimizers.Adam(lr=LEARNING_RATE)\n",
    "model.compile(loss=\"categorical_crossentropy\", metrics=[\"accuracy\"], optimizer=optimizer)"
   ]
  },
  {
   "cell_type": "code",
   "execution_count": 13,
   "metadata": {},
   "outputs": [
    {
     "name": "stdout",
     "output_type": "stream",
     "text": [
      "Train on 50000 samples, validate on 10000 samples\n",
      "Epoch 1/100\n",
      "50000/50000 [==============================] - 10s 194us/step - loss: 1.9496 - accuracy: 0.3089 - val_loss: 1.7238 - val_accuracy: 0.4109\n",
      "Epoch 2/100\n",
      "50000/50000 [==============================] - 10s 206us/step - loss: 1.6111 - accuracy: 0.4375 - val_loss: 1.5353 - val_accuracy: 0.4677\n",
      "Epoch 3/100\n",
      "50000/50000 [==============================] - 12s 241us/step - loss: 1.4452 - accuracy: 0.4915 - val_loss: 1.4564 - val_accuracy: 0.4876\n",
      "Epoch 4/100\n",
      "50000/50000 [==============================] - 12s 245us/step - loss: 1.3414 - accuracy: 0.5290 - val_loss: 1.4435 - val_accuracy: 0.4982\n",
      "Epoch 5/100\n",
      "50000/50000 [==============================] - 12s 238us/step - loss: 1.2530 - accuracy: 0.5582 - val_loss: 1.3864 - val_accuracy: 0.5203\n",
      "Epoch 6/100\n",
      "50000/50000 [==============================] - 13s 252us/step - loss: 1.1672 - accuracy: 0.5888 - val_loss: 1.3936 - val_accuracy: 0.5177\n",
      "Epoch 7/100\n",
      "50000/50000 [==============================] - 12s 243us/step - loss: 1.0834 - accuracy: 0.6181 - val_loss: 1.4156 - val_accuracy: 0.5187\n",
      "Epoch 8/100\n",
      "50000/50000 [==============================] - 12s 237us/step - loss: 1.0214 - accuracy: 0.6405 - val_loss: 1.4316 - val_accuracy: 0.5225\n",
      "Epoch 9/100\n",
      "50000/50000 [==============================] - 12s 250us/step - loss: 0.9436 - accuracy: 0.6676 - val_loss: 1.4278 - val_accuracy: 0.5316\n",
      "Epoch 10/100\n",
      "50000/50000 [==============================] - 13s 259us/step - loss: 0.8786 - accuracy: 0.6882 - val_loss: 1.4665 - val_accuracy: 0.5341\n",
      "Epoch 11/100\n",
      "50000/50000 [==============================] - 12s 246us/step - loss: 0.8161 - accuracy: 0.7103 - val_loss: 1.5422 - val_accuracy: 0.5340\n",
      "Epoch 12/100\n",
      "50000/50000 [==============================] - 12s 245us/step - loss: 0.7501 - accuracy: 0.7354 - val_loss: 1.5562 - val_accuracy: 0.5345\n",
      "Epoch 13/100\n",
      "50000/50000 [==============================] - 13s 261us/step - loss: 0.6933 - accuracy: 0.7529 - val_loss: 1.6205 - val_accuracy: 0.5364\n",
      "Epoch 14/100\n",
      "50000/50000 [==============================] - 12s 244us/step - loss: 0.6310 - accuracy: 0.7753 - val_loss: 1.6653 - val_accuracy: 0.5271\n",
      "Epoch 15/100\n",
      "50000/50000 [==============================] - 12s 247us/step - loss: 0.5883 - accuracy: 0.7889 - val_loss: 1.7918 - val_accuracy: 0.5303\n",
      "Epoch 16/100\n",
      "50000/50000 [==============================] - 13s 265us/step - loss: 0.5323 - accuracy: 0.8120 - val_loss: 1.8140 - val_accuracy: 0.5288\n",
      "Epoch 17/100\n",
      "50000/50000 [==============================] - 12s 244us/step - loss: 0.4945 - accuracy: 0.8247 - val_loss: 1.9373 - val_accuracy: 0.5285\n",
      "Epoch 18/100\n",
      "50000/50000 [==============================] - 12s 243us/step - loss: 0.4545 - accuracy: 0.8393 - val_loss: 1.9952 - val_accuracy: 0.5234\n",
      "Epoch 19/100\n",
      "50000/50000 [==============================] - 12s 243us/step - loss: 0.4128 - accuracy: 0.8532 - val_loss: 2.1435 - val_accuracy: 0.5216\n",
      "Epoch 20/100\n",
      "50000/50000 [==============================] - 12s 245us/step - loss: 0.3850 - accuracy: 0.8622 - val_loss: 2.2584 - val_accuracy: 0.5275\n",
      "Epoch 21/100\n",
      "50000/50000 [==============================] - 12s 240us/step - loss: 0.3572 - accuracy: 0.8745 - val_loss: 2.2357 - val_accuracy: 0.5283\n",
      "Epoch 22/100\n",
      "50000/50000 [==============================] - 12s 246us/step - loss: 0.3399 - accuracy: 0.8809 - val_loss: 2.4396 - val_accuracy: 0.5284\n",
      "Epoch 23/100\n",
      "50000/50000 [==============================] - 14s 279us/step - loss: 0.3149 - accuracy: 0.8897 - val_loss: 2.4727 - val_accuracy: 0.5261\n",
      "Epoch 24/100\n",
      "50000/50000 [==============================] - 15s 298us/step - loss: 0.2969 - accuracy: 0.8960 - val_loss: 2.5744 - val_accuracy: 0.5288\n",
      "Epoch 25/100\n",
      "50000/50000 [==============================] - 14s 277us/step - loss: 0.2832 - accuracy: 0.9009 - val_loss: 2.6283 - val_accuracy: 0.5257\n",
      "Epoch 26/100\n",
      "50000/50000 [==============================] - 14s 275us/step - loss: 0.2693 - accuracy: 0.9059 - val_loss: 2.7570 - val_accuracy: 0.5222\n",
      "Epoch 27/100\n",
      "50000/50000 [==============================] - 13s 257us/step - loss: 0.2506 - accuracy: 0.9127 - val_loss: 2.8308 - val_accuracy: 0.5209\n",
      "Epoch 28/100\n",
      "50000/50000 [==============================] - 13s 251us/step - loss: 0.2220 - accuracy: 0.9228 - val_loss: 2.9343 - val_accuracy: 0.5294\n",
      "Epoch 29/100\n",
      "50000/50000 [==============================] - 15s 294us/step - loss: 0.2262 - accuracy: 0.9215 - val_loss: 3.0216 - val_accuracy: 0.5293\n",
      "Epoch 30/100\n",
      "50000/50000 [==============================] - 16s 311us/step - loss: 0.2105 - accuracy: 0.9270 - val_loss: 3.0007 - val_accuracy: 0.5248\n",
      "Epoch 31/100\n",
      "50000/50000 [==============================] - 13s 269us/step - loss: 0.1998 - accuracy: 0.9315 - val_loss: 3.1993 - val_accuracy: 0.5227\n",
      "Epoch 32/100\n",
      "50000/50000 [==============================] - 11s 227us/step - loss: 0.2093 - accuracy: 0.9271 - val_loss: 3.2054 - val_accuracy: 0.5141\n",
      "Epoch 33/100\n",
      "50000/50000 [==============================] - 11s 217us/step - loss: 0.1868 - accuracy: 0.9364 - val_loss: 3.2161 - val_accuracy: 0.5292\n",
      "Epoch 34/100\n",
      "50000/50000 [==============================] - 11s 225us/step - loss: 0.1773 - accuracy: 0.9390 - val_loss: 3.2916 - val_accuracy: 0.5297\n",
      "Epoch 35/100\n",
      "50000/50000 [==============================] - 11s 221us/step - loss: 0.1641 - accuracy: 0.9450 - val_loss: 3.4238 - val_accuracy: 0.5293\n",
      "Epoch 36/100\n",
      "50000/50000 [==============================] - 11s 217us/step - loss: 0.1790 - accuracy: 0.9398 - val_loss: 3.3387 - val_accuracy: 0.5281\n",
      "Epoch 37/100\n",
      "50000/50000 [==============================] - 11s 222us/step - loss: 0.1854 - accuracy: 0.9368 - val_loss: 3.3774 - val_accuracy: 0.5261\n",
      "Epoch 38/100\n",
      "50000/50000 [==============================] - 11s 226us/step - loss: 0.1441 - accuracy: 0.9522 - val_loss: 3.5245 - val_accuracy: 0.5198\n",
      "Epoch 39/100\n",
      "50000/50000 [==============================] - 13s 267us/step - loss: 0.1642 - accuracy: 0.9447 - val_loss: 3.4690 - val_accuracy: 0.5167\n",
      "Epoch 40/100\n",
      "50000/50000 [==============================] - 15s 301us/step - loss: 0.1478 - accuracy: 0.9497 - val_loss: 3.5536 - val_accuracy: 0.5275\n",
      "Epoch 41/100\n",
      "50000/50000 [==============================] - 13s 259us/step - loss: 0.1303 - accuracy: 0.9560 - val_loss: 3.5990 - val_accuracy: 0.5250\n",
      "Epoch 42/100\n",
      "50000/50000 [==============================] - 13s 251us/step - loss: 0.1319 - accuracy: 0.9564 - val_loss: 3.8260 - val_accuracy: 0.5225\n",
      "Epoch 43/100\n",
      "50000/50000 [==============================] - 12s 245us/step - loss: 0.1544 - accuracy: 0.9487 - val_loss: 3.7594 - val_accuracy: 0.5262\n",
      "Epoch 44/100\n",
      "50000/50000 [==============================] - 11s 221us/step - loss: 0.1524 - accuracy: 0.9488 - val_loss: 3.6951 - val_accuracy: 0.5239\n",
      "Epoch 45/100\n",
      "50000/50000 [==============================] - 10s 190us/step - loss: 0.1361 - accuracy: 0.9546 - val_loss: 3.7147 - val_accuracy: 0.5264\n",
      "Epoch 46/100\n",
      "50000/50000 [==============================] - 10s 199us/step - loss: 0.1261 - accuracy: 0.9569 - val_loss: 3.8253 - val_accuracy: 0.5279\n",
      "Epoch 47/100\n",
      "50000/50000 [==============================] - 11s 224us/step - loss: 0.1238 - accuracy: 0.9596 - val_loss: 3.7440 - val_accuracy: 0.5324\n",
      "Epoch 48/100\n",
      "50000/50000 [==============================] - 12s 239us/step - loss: 0.1199 - accuracy: 0.9599 - val_loss: 3.9029 - val_accuracy: 0.5230\n",
      "Epoch 49/100\n",
      "50000/50000 [==============================] - 13s 270us/step - loss: 0.1363 - accuracy: 0.9556 - val_loss: 3.8807 - val_accuracy: 0.5269\n",
      "Epoch 50/100\n",
      "50000/50000 [==============================] - 13s 262us/step - loss: 0.1366 - accuracy: 0.9551 - val_loss: 3.9058 - val_accuracy: 0.5236\n",
      "Epoch 51/100\n",
      "50000/50000 [==============================] - 11s 225us/step - loss: 0.1104 - accuracy: 0.9635 - val_loss: 3.9769 - val_accuracy: 0.5271\n",
      "Epoch 52/100\n",
      "50000/50000 [==============================] - 11s 218us/step - loss: 0.1052 - accuracy: 0.9661 - val_loss: 4.0786 - val_accuracy: 0.5291\n",
      "Epoch 53/100\n",
      "50000/50000 [==============================] - 12s 236us/step - loss: 0.1095 - accuracy: 0.9650 - val_loss: 4.1481 - val_accuracy: 0.5198\n",
      "Epoch 54/100\n",
      "50000/50000 [==============================] - 12s 241us/step - loss: 0.1387 - accuracy: 0.9543 - val_loss: 3.9242 - val_accuracy: 0.5278\n"
     ]
    },
    {
     "name": "stdout",
     "output_type": "stream",
     "text": [
      "Epoch 55/100\n",
      "50000/50000 [==============================] - 11s 212us/step - loss: 0.1041 - accuracy: 0.9651 - val_loss: 4.0895 - val_accuracy: 0.5318\n",
      "Epoch 56/100\n",
      "50000/50000 [==============================] - 11s 212us/step - loss: 0.1032 - accuracy: 0.9655 - val_loss: 4.1343 - val_accuracy: 0.5203\n",
      "Epoch 57/100\n",
      "50000/50000 [==============================] - 11s 215us/step - loss: 0.1097 - accuracy: 0.9640 - val_loss: 4.2296 - val_accuracy: 0.5213\n",
      "Epoch 58/100\n",
      "50000/50000 [==============================] - 11s 213us/step - loss: 0.1063 - accuracy: 0.9645 - val_loss: 4.1145 - val_accuracy: 0.5236\n",
      "Epoch 59/100\n",
      "50000/50000 [==============================] - 11s 214us/step - loss: 0.0869 - accuracy: 0.9715 - val_loss: 4.3315 - val_accuracy: 0.5308\n",
      "Epoch 60/100\n",
      "50000/50000 [==============================] - 11s 217us/step - loss: 0.0935 - accuracy: 0.9696 - val_loss: 4.4899 - val_accuracy: 0.5238\n",
      "Epoch 61/100\n",
      "50000/50000 [==============================] - 11s 220us/step - loss: 0.1033 - accuracy: 0.9657 - val_loss: 4.1745 - val_accuracy: 0.5217\n",
      "Epoch 62/100\n",
      "50000/50000 [==============================] - 11s 224us/step - loss: 0.0935 - accuracy: 0.9687 - val_loss: 4.2573 - val_accuracy: 0.5270\n",
      "Epoch 63/100\n",
      "50000/50000 [==============================] - 11s 219us/step - loss: 0.1088 - accuracy: 0.9644 - val_loss: 4.3034 - val_accuracy: 0.5179\n",
      "Epoch 64/100\n",
      "50000/50000 [==============================] - 11s 218us/step - loss: 0.1063 - accuracy: 0.9643 - val_loss: 4.3606 - val_accuracy: 0.5243\n",
      "Epoch 65/100\n",
      "50000/50000 [==============================] - 11s 215us/step - loss: 0.0853 - accuracy: 0.9728 - val_loss: 4.2492 - val_accuracy: 0.5276\n",
      "Epoch 66/100\n",
      "50000/50000 [==============================] - 11s 220us/step - loss: 0.0783 - accuracy: 0.9742 - val_loss: 4.4099 - val_accuracy: 0.5273\n",
      "Epoch 67/100\n",
      "50000/50000 [==============================] - 11s 220us/step - loss: 0.1065 - accuracy: 0.9659 - val_loss: 4.2323 - val_accuracy: 0.5219\n",
      "Epoch 68/100\n",
      "50000/50000 [==============================] - 11s 218us/step - loss: 0.0858 - accuracy: 0.9719 - val_loss: 4.3178 - val_accuracy: 0.5185\n",
      "Epoch 69/100\n",
      "50000/50000 [==============================] - 11s 222us/step - loss: 0.0783 - accuracy: 0.9739 - val_loss: 4.4400 - val_accuracy: 0.5135\n",
      "Epoch 70/100\n",
      "50000/50000 [==============================] - 11s 226us/step - loss: 0.0865 - accuracy: 0.9716 - val_loss: 4.4551 - val_accuracy: 0.5161\n",
      "Epoch 71/100\n",
      "50000/50000 [==============================] - 12s 244us/step - loss: 0.1000 - accuracy: 0.9683 - val_loss: 4.1588 - val_accuracy: 0.5175\n",
      "Epoch 72/100\n",
      "50000/50000 [==============================] - 12s 248us/step - loss: 0.1072 - accuracy: 0.9651 - val_loss: 4.2112 - val_accuracy: 0.5262\n",
      "Epoch 73/100\n",
      "50000/50000 [==============================] - 12s 248us/step - loss: 0.0678 - accuracy: 0.9781 - val_loss: 4.6137 - val_accuracy: 0.5277\n",
      "Epoch 74/100\n",
      "50000/50000 [==============================] - 14s 275us/step - loss: 0.0900 - accuracy: 0.9706 - val_loss: 4.6343 - val_accuracy: 0.5260\n",
      "Epoch 75/100\n",
      "50000/50000 [==============================] - 13s 253us/step - loss: 0.0759 - accuracy: 0.9748 - val_loss: 4.5102 - val_accuracy: 0.5258\n",
      "Epoch 76/100\n",
      "50000/50000 [==============================] - 13s 261us/step - loss: 0.0618 - accuracy: 0.9799 - val_loss: 4.6521 - val_accuracy: 0.5186\n",
      "Epoch 77/100\n",
      "50000/50000 [==============================] - 13s 258us/step - loss: 0.0881 - accuracy: 0.9722 - val_loss: 4.5878 - val_accuracy: 0.5257\n",
      "Epoch 78/100\n",
      "50000/50000 [==============================] - 13s 253us/step - loss: 0.0993 - accuracy: 0.9674 - val_loss: 4.4208 - val_accuracy: 0.5215\n",
      "Epoch 79/100\n",
      "50000/50000 [==============================] - 12s 231us/step - loss: 0.0908 - accuracy: 0.9712 - val_loss: 4.4334 - val_accuracy: 0.5276\n",
      "Epoch 80/100\n",
      "50000/50000 [==============================] - 11s 215us/step - loss: 0.0791 - accuracy: 0.9746 - val_loss: 4.5147 - val_accuracy: 0.5227\n",
      "Epoch 81/100\n",
      "50000/50000 [==============================] - 12s 234us/step - loss: 0.0644 - accuracy: 0.9797 - val_loss: 4.6227 - val_accuracy: 0.5283\n",
      "Epoch 82/100\n",
      "50000/50000 [==============================] - 11s 221us/step - loss: 0.0584 - accuracy: 0.9815 - val_loss: 4.7153 - val_accuracy: 0.5251\n",
      "Epoch 83/100\n",
      "50000/50000 [==============================] - 11s 212us/step - loss: 0.0750 - accuracy: 0.9753 - val_loss: 4.5317 - val_accuracy: 0.5241\n",
      "Epoch 84/100\n",
      "50000/50000 [==============================] - 10s 195us/step - loss: 0.0843 - accuracy: 0.9727 - val_loss: 4.5488 - val_accuracy: 0.5226\n",
      "Epoch 85/100\n",
      "50000/50000 [==============================] - 10s 200us/step - loss: 0.0812 - accuracy: 0.9740 - val_loss: 4.5333 - val_accuracy: 0.5262\n",
      "Epoch 86/100\n",
      "50000/50000 [==============================] - 10s 195us/step - loss: 0.0735 - accuracy: 0.9763 - val_loss: 4.6128 - val_accuracy: 0.5267\n",
      "Epoch 87/100\n",
      "50000/50000 [==============================] - 10s 199us/step - loss: 0.0814 - accuracy: 0.9741 - val_loss: 4.6633 - val_accuracy: 0.5220\n",
      "Epoch 88/100\n",
      "50000/50000 [==============================] - 10s 199us/step - loss: 0.0716 - accuracy: 0.9777 - val_loss: 4.6471 - val_accuracy: 0.5292\n",
      "Epoch 89/100\n",
      "50000/50000 [==============================] - 10s 195us/step - loss: 0.0575 - accuracy: 0.9809 - val_loss: 4.7339 - val_accuracy: 0.5231\n",
      "Epoch 90/100\n",
      "50000/50000 [==============================] - 10s 198us/step - loss: 0.0452 - accuracy: 0.9854 - val_loss: 4.7725 - val_accuracy: 0.5211\n",
      "Epoch 91/100\n",
      "50000/50000 [==============================] - 10s 197us/step - loss: 0.0807 - accuracy: 0.9750 - val_loss: 4.7170 - val_accuracy: 0.5204\n",
      "Epoch 92/100\n",
      "50000/50000 [==============================] - 10s 196us/step - loss: 0.0869 - accuracy: 0.9723 - val_loss: 4.5288 - val_accuracy: 0.5190\n",
      "Epoch 93/100\n",
      "50000/50000 [==============================] - 10s 199us/step - loss: 0.0714 - accuracy: 0.9766 - val_loss: 4.8508 - val_accuracy: 0.5200\n",
      "Epoch 94/100\n",
      "50000/50000 [==============================] - 10s 195us/step - loss: 0.0787 - accuracy: 0.9754 - val_loss: 4.7249 - val_accuracy: 0.5163\n",
      "Epoch 95/100\n",
      "50000/50000 [==============================] - 10s 199us/step - loss: 0.0622 - accuracy: 0.9810 - val_loss: 4.8845 - val_accuracy: 0.5281\n",
      "Epoch 96/100\n",
      "50000/50000 [==============================] - 10s 199us/step - loss: 0.0492 - accuracy: 0.9842 - val_loss: 4.6759 - val_accuracy: 0.5281\n",
      "Epoch 97/100\n",
      "50000/50000 [==============================] - 10s 194us/step - loss: 0.0505 - accuracy: 0.9838 - val_loss: 4.8453 - val_accuracy: 0.5271\n",
      "Epoch 98/100\n",
      "50000/50000 [==============================] - 10s 198us/step - loss: 0.0806 - accuracy: 0.9740 - val_loss: 4.8094 - val_accuracy: 0.5242\n",
      "Epoch 99/100\n",
      "50000/50000 [==============================] - 10s 194us/step - loss: 0.0787 - accuracy: 0.9744 - val_loss: 4.7556 - val_accuracy: 0.5318\n",
      "Epoch 100/100\n",
      "50000/50000 [==============================] - 10s 198us/step - loss: 0.0563 - accuracy: 0.9817 - val_loss: 4.8383 - val_accuracy: 0.5251\n"
     ]
    },
    {
     "data": {
      "text/plain": [
       "<keras.callbacks.callbacks.History at 0x1c15986d198>"
      ]
     },
     "execution_count": 13,
     "metadata": {},
     "output_type": "execute_result"
    }
   ],
   "source": [
    "model.fit(x_train, y_train, \n",
    "          epochs=EPOCHS, \n",
    "          batch_size=BATCH_SIZE, \n",
    "          validation_data=(x_test, y_test), \n",
    "          shuffle=True)"
   ]
  },
  {
   "cell_type": "code",
   "execution_count": 15,
   "metadata": {},
   "outputs": [
    {
     "data": {
      "image/png": "[encoded data removed]",
      "text/plain": [
       "<Figure size 432x288 with 1 Axes>"
      ]
     },
     "metadata": {
      "needs_background": "light"
     },
     "output_type": "display_data"
    },
    {
     "data": {
      "image/png": "[encoded data removed]",
      "text/plain": [
       "<Figure size 432x288 with 1 Axes>"
      ]
     },
     "metadata": {
      "needs_background": "light"
     },
     "output_type": "display_data"
    }
   ],
   "source": [
    "import matplotlib.pyplot as plt\n",
    "\n",
    "\n",
    "train_loss = model.history.history[\"loss\"]\n",
    "valid_loss = model.history.history[\"val_loss\"]\n",
    "\n",
    "train_acc = model.history.history[\"accuracy\"]\n",
    "valid_acc = model.history.history[\"val_accuracy\"]\n",
    "\n",
    "plt.plot(range(len(train_loss)), train_loss, label=\"train loss\")\n",
    "plt.plot(range(len(valid_loss)), valid_loss, label=\"valid loss\")\n",
    "plt.legend()\n",
    "plt.title(\"Loss\")\n",
    "plt.show()\n",
    "\n",
    "plt.plot(range(len(train_acc)), train_acc, label=\"train accuracy\")\n",
    "plt.plot(range(len(valid_acc)), valid_acc, label=\"valid accuracy\")\n",
    "plt.legend()\n",
    "plt.title(\"Accuracy\")\n",
    "plt.show()"
   ]
  },
  {
   "cell_type": "markdown",
   "metadata": {},
   "source": [
    "### Ans: 相較範例，loss的下降速度相較快速。"
   ]
  }
 ],
 "metadata": {
  "kernelspec": {
   "display_name": "Python 3",
   "language": "python",
   "name": "python3"
  },
  "language_info": {
   "codemirror_mode": {
    "name": "ipython",
    "version": 3
   },
   "file_extension": ".py",
   "mimetype": "text/x-python",
   "name": "python",
   "nbconvert_exporter": "python",
   "pygments_lexer": "ipython3",
   "version": "3.5.6"
  }
 },
 "nbformat": 4,
 "nbformat_minor": 2
}
